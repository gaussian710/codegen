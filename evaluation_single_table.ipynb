{
 "cells": [
  {
   "cell_type": "code",
   "execution_count": 37,
   "id": "53f6c4a1-a655-48bf-a285-0eaa0cf88ee9",
   "metadata": {},
   "outputs": [],
   "source": [
    "import pandas as pd\n",
    "import numpy as np\n",
    "import json\n",
    "import utils"
   ]
  },
  {
   "cell_type": "markdown",
   "id": "694f12a1-dcca-4573-8ef8-19798116d01d",
   "metadata": {},
   "source": [
    "metrics: \\\n",
    "sqtring matching score \\\n",
    "executability \\\n",
    "execution score  "
   ]
  },
  {
   "cell_type": "code",
   "execution_count": 3,
   "id": "05920262-8a2c-4c1e-a246-9a2cc1200435",
   "metadata": {},
   "outputs": [],
   "source": [
    "with open('spider_data/train_spider.json') as f:\n",
    "    query_data = json.load(f)"
   ]
  },
  {
   "cell_type": "code",
   "execution_count": 5,
   "id": "0e9dd2ae-24dd-4df5-ba4d-784b216f02ad",
   "metadata": {},
   "outputs": [],
   "source": [
    "with open('spider_data/tables.json') as f:\n",
    "    table_data = json.load(f)"
   ]
  },
  {
   "cell_type": "code",
   "execution_count": 16,
   "id": "4bccd456-165f-4eec-a390-a514a220255b",
   "metadata": {},
   "outputs": [],
   "source": [
    "table_data_dict = {rec['db_id']:rec for rec in table_data}"
   ]
  },
  {
   "cell_type": "code",
   "execution_count": 10,
   "id": "d2eb235e-7ee1-4526-859d-dae5ec189f88",
   "metadata": {},
   "outputs": [],
   "source": [
    "pd.Series([rec['db_id'] for rec in query_data]).value_counts().to_csv('temp.csv')"
   ]
  },
  {
   "cell_type": "code",
   "execution_count": 79,
   "id": "8b3f656a-0ba2-45e8-a48c-8b02bd2b38b8",
   "metadata": {},
   "outputs": [],
   "source": [
    "def get_schema(query, table_data_dict):\n",
    "    db = query['db_id']\n",
    "    tbl_id = query['sql']['from']['table_units'][0][1]\n",
    "    table_name = table_data_dict[db]['table_names_original'][tbl_id]\n",
    "\n",
    "    columns = []\n",
    "    for names,type in zip(table_data_dict[db]['column_names_original'],table_data_dict[db]['column_types']):\n",
    "        if names[0]==tbl_id:\n",
    "            columns.append((names[1], type))\n",
    "    \n",
    "    tbl_details = {\n",
    "        table_name:columns\n",
    "    }\n",
    "    \n",
    "    df = pd.DataFrame(columns, columns = ['name','type'])\n",
    "    df['comment'] = np.nan\n",
    "    tbl_schema = utils.format_topk_sql(tbl_details, shuffle=False)\n",
    "\n",
    "    return tbl_schema, df"
   ]
  },
  {
   "cell_type": "code",
   "execution_count": 14,
   "id": "fa86a754-688b-4e20-8d8e-0a6e0b63b3f9",
   "metadata": {
    "scrolled": true
   },
   "outputs": [
    {
     "data": {
      "text/plain": [
       "{'db_id': 'department_management',\n",
       " 'query': 'SELECT count(*) FROM head WHERE age  >  56',\n",
       " 'query_toks': ['SELECT',\n",
       "  'count',\n",
       "  '(',\n",
       "  '*',\n",
       "  ')',\n",
       "  'FROM',\n",
       "  'head',\n",
       "  'WHERE',\n",
       "  'age',\n",
       "  '>',\n",
       "  '56'],\n",
       " 'query_toks_no_value': ['select',\n",
       "  'count',\n",
       "  '(',\n",
       "  '*',\n",
       "  ')',\n",
       "  'from',\n",
       "  'head',\n",
       "  'where',\n",
       "  'age',\n",
       "  '>',\n",
       "  'value'],\n",
       " 'question': 'How many heads of the departments are older than 56 ?',\n",
       " 'question_toks': ['How',\n",
       "  'many',\n",
       "  'heads',\n",
       "  'of',\n",
       "  'the',\n",
       "  'departments',\n",
       "  'are',\n",
       "  'older',\n",
       "  'than',\n",
       "  '56',\n",
       "  '?'],\n",
       " 'sql': {'from': {'table_units': [['table_unit', 1]], 'conds': []},\n",
       "  'select': [False, [[3, [0, [0, 0, False], None]]]],\n",
       "  'where': [[False, 3, [0, [0, 10, False], None], 56.0, None]],\n",
       "  'groupBy': [],\n",
       "  'having': [],\n",
       "  'orderBy': [],\n",
       "  'limit': None,\n",
       "  'intersect': None,\n",
       "  'union': None,\n",
       "  'except': None}}"
      ]
     },
     "execution_count": 14,
     "metadata": {},
     "output_type": "execute_result"
    }
   ],
   "source": [
    "query = query_data[0]"
   ]
  },
  {
   "cell_type": "code",
   "execution_count": 80,
   "id": "0bd924a5-c9e8-4298-ad14-d65cb8797ff3",
   "metadata": {},
   "outputs": [],
   "source": [
    "single_table_queries = [query for query in query_data if len(query['sql']['from']['table_units'])==1]"
   ]
  },
  {
   "cell_type": "code",
   "execution_count": 56,
   "id": "2b65ba63-283b-44df-828e-bd4a6ba71cfe",
   "metadata": {},
   "outputs": [],
   "source": [
    "prompt_template = \"\"\" \n",
    "                        ### Instructions:\n",
    "                        Your task is to convert a question into a SQL query, given a Postgres database schema.\n",
    "                        Adhere to these rules:\n",
    "                        - **Deliberately go through the question and database schema word by word** to appropriately answer the question\n",
    "                        - **Use Table Aliases** to prevent ambiguity. For example, `SELECT table1.col1, table2.col1 FROM table1 JOIN table2 ON table1.id = table2.id`.\n",
    "                        - When creating a ratio, always cast the numerator as float\n",
    "                        \n",
    "                        ### Input:\n",
    "                        Generate a SQL query that answers the question {question}.\n",
    "                        This query will run on a database whose schema is represented in this string:\n",
    "                        {db_schema}\n",
    "                        \n",
    "                        \n",
    "                        ### Response:\n",
    "                        Based on your instructions, here is the SQL query I have generated to answer the question {question}:\n",
    "                        ```sql\n",
    "                        \"\"\""
   ]
  },
  {
   "cell_type": "code",
   "execution_count": 60,
   "id": "9fd743ef-2ea7-4ce1-a628-87aec07b6e73",
   "metadata": {},
   "outputs": [
    {
     "name": "stdout",
     "output_type": "stream",
     "text": [
      "Running pre-processing...\n",
      "Pruned schema: \n",
      "CREATE TABLE head (\n",
      "  age DECIMAL(38, 0), --None\n",
      "  head_ID DECIMAL(38, 0), --None\n",
      "  name TEXT, --None\n",
      "  born_state TEXT, --None\n",
      ");\n",
      "\n",
      "\n",
      "\n",
      "CREATE TABLE head (\n",
      "  age DECIMAL(38, 0), --None\n",
      "  head_ID DECIMAL(38, 0), --None\n",
      "  name TEXT, --None\n",
      "  born_state TEXT, --None\n",
      ");\n",
      "\n",
      "\n",
      "prompt:  \n",
      "                        ### Instructions:\n",
      "                        Your task is to convert a question into a SQL query, given a Postgres database schema.\n",
      "                        Adhere to these rules:\n",
      "                        - **Deliberately go through the question and database schema word by word** to appropriately answer the question\n",
      "                        - **Use Table Aliases** to prevent ambiguity. For example, `SELECT table1.col1, table2.col1 FROM table1 JOIN table2 ON table1.id = table2.id`.\n",
      "                        - When creating a ratio, always cast the numerator as float\n",
      "                        \n",
      "                        ### Input:\n",
      "                        Generate a SQL query that answers the question How many heads of the departments are older than 56 ?.\n",
      "                        This query will run on a database whose schema is represented in this string:\n",
      "                        \n",
      "CREATE TABLE head (\n",
      "  age DECIMAL(38, 0), --None\n",
      "  head_ID DECIMAL(38, 0), --None\n",
      "  name TEXT, --None\n",
      "  born_state TEXT, --None\n",
      ");\n",
      "\n",
      "\n",
      "                        \n",
      "                        \n",
      "                        ### Response:\n",
      "                        Based on your instructions, here is the SQL query I have generated to answer the question How many heads of the departments are older than 56 ?:\n",
      "                        ```sql\n",
      "                        \n",
      "Querying sqlcoder...\n",
      "JSON resp:  SELECT COUNT(*) FROM head WHERE age > 56;\n",
      "                        ```\n",
      "Done! Generated query:  SELECT COUNT(*) FROM head WHERE age > 56;\n",
      "                        ```\n",
      "Running post-processing...\n",
      "Done! Processed query: SELECT COUNT(*) FROM head WHERE age > 56\n"
     ]
    }
   ],
   "source": [
    "model_name = 'sqlcoder'\n",
    "\n",
    "sql_query, prompt = utils.getModelResult(tbl_schema, query['question'], model_name, table_name, df)"
   ]
  },
  {
   "cell_type": "code",
   "execution_count": 65,
   "id": "04f69303-10db-4da9-96d9-6ebd6e9f0f7e",
   "metadata": {},
   "outputs": [
    {
     "data": {
      "text/plain": [
       "<module 'utils' from 'C:\\\\Users\\\\91876\\\\Documents\\\\codegen_nl2sql\\\\utils.py'>"
      ]
     },
     "execution_count": 65,
     "metadata": {},
     "output_type": "execute_result"
    }
   ],
   "source": [
    "from importlib import reload\n",
    "reload(utils)"
   ]
  },
  {
   "cell_type": "code",
   "execution_count": 76,
   "id": "cdc19734-485b-4555-b9df-59093f3c72b5",
   "metadata": {},
   "outputs": [],
   "source": [
    "import requests\n",
    "\n",
    "OLLAMA_URL = 'http://127.0.0.1:9565'\n",
    "class OLLAMA:\n",
    "    def __init__(self, OLLAMA_URL, model_name):\n",
    "        self.model_name = model_name\n",
    "        self.ollama_url = OLLAMA_URL\n",
    "        self.ollama_endpoint = '/api/generate'\n",
    "\n",
    "    def run(self, prompt):\n",
    "        data = {\n",
    "            'model': self.model_name,\n",
    "            'prompt': prompt,\n",
    "            'stream': False,\n",
    "            \"options\":{\"temperature\":0.1}\n",
    "        }\n",
    "\n",
    "        headers = {\n",
    "            'Accept': 'application/json',\n",
    "            'Content-Type': 'application/json'\n",
    "        }\n",
    "\n",
    "        resp = requests.post(url = f'{self.ollama_url}{self.ollama_endpoint}',\n",
    "                             data = json.dumps(data),\n",
    "                             headers = headers)\n",
    "        query = resp.json()['response']\n",
    "        print(f'JSON resp: {query}')\n",
    "        return query, resp.json()"
   ]
  },
  {
   "cell_type": "code",
   "execution_count": 77,
   "id": "9b9a67b1-ddef-4ff3-bfe6-e551ffeb07ff",
   "metadata": {},
   "outputs": [
    {
     "name": "stdout",
     "output_type": "stream",
     "text": [
      "JSON resp:  SELECT COUNT(*) FROM head WHERE age > 56;\n",
      "                        ```\n"
     ]
    }
   ],
   "source": [
    "model_name = 'sqlcoder'\n",
    "prompt = prompt_template.format(question=query['question'], db_schema=tbl_schema)\n",
    "ollama = OLLAMA(OLLAMA_URL=utils.OLLAMA_URL, model_name='sqlcoder')\n",
    "generated_query, resp = ollama.run(prompt)"
   ]
  },
  {
   "cell_type": "code",
   "execution_count": 83,
   "id": "319689a1-fa11-4290-8154-1d2e4bbe643d",
   "metadata": {},
   "outputs": [
    {
     "name": "stdout",
     "output_type": "stream",
     "text": [
      "JSON resp:  SELECT COUNT(*) FROM head WHERE age > 56;\n",
      "                        ```\n"
     ]
    }
   ],
   "source": [
    "model_name = 'sqlcoder'\n",
    "results = []\n",
    "for query in single_table_queries:\n",
    "    tbl_schema, _ = get_schema(query, table_data_dict)\n",
    "    \n",
    "    prompt = prompt_template.format(question=query['question'], db_schema=tbl_schema)\n",
    "    ollama = OLLAMA(OLLAMA_URL=utils.OLLAMA_URL, model_name='sqlcoder')\n",
    "    generated_query, resp = ollama.run(prompt)\n",
    "\n",
    "    results.append(generated_query)\n",
    "    break"
   ]
  }
 ],
 "metadata": {
  "kernelspec": {
   "display_name": "Python 3 (ipykernel)",
   "language": "python",
   "name": "python3"
  },
  "language_info": {
   "codemirror_mode": {
    "name": "ipython",
    "version": 3
   },
   "file_extension": ".py",
   "mimetype": "text/x-python",
   "name": "python",
   "nbconvert_exporter": "python",
   "pygments_lexer": "ipython3",
   "version": "3.13.5"
  }
 },
 "nbformat": 4,
 "nbformat_minor": 5
}
