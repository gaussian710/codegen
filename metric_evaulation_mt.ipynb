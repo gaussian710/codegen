{
 "cells": [
  {
   "cell_type": "code",
   "execution_count": 1,
   "id": "51c56e2c-108e-43b7-8655-0e8f324c48f5",
   "metadata": {},
   "outputs": [],
   "source": [
    "import json\n",
    "import pandas as pd\n",
    "import numpy as np\n",
    "import pickle"
   ]
  },
  {
   "cell_type": "code",
   "execution_count": 2,
   "id": "1d261727-a4b8-4d57-884b-d0c5fac49fc2",
   "metadata": {},
   "outputs": [],
   "source": [
    "with open('spider_data/train_spider.json') as f:\n",
    "    query_data = json.load(f)\n",
    "\n",
    "with open('spider_data/tables.json') as f:\n",
    "    table_data = json.load(f)\n",
    "\n",
    "multi_table_queries = [query for query in query_data if len(query['sql']['from']['table_units'])>1]"
   ]
  },
  {
   "cell_type": "code",
   "execution_count": 3,
   "id": "2a15e7c9-aac3-427b-85ca-78686af784bb",
   "metadata": {},
   "outputs": [],
   "source": [
    "with open('spider_gold_mt.sql','w') as f:\n",
    "    for rec in multi_table_queries[:500]:\n",
    "        q = rec['query'].replace('\\t',' ')\n",
    "        line = f\"{q}\\t{rec['db_id']}\\n\"\n",
    "        f.write(line)"
   ]
  },
  {
   "cell_type": "code",
   "execution_count": 24,
   "id": "ecebd0c3-c56e-43e8-920a-681e698fc58d",
   "metadata": {},
   "outputs": [],
   "source": [
    "with open('results_mt_v2.pkl','rb') as f:\n",
    "    results_mt = pickle.load(f)"
   ]
  },
  {
   "cell_type": "code",
   "execution_count": 25,
   "id": "16d5cb4d-2012-41aa-8bc3-85bb100b3ad2",
   "metadata": {},
   "outputs": [],
   "source": [
    "pred_queries = []\n",
    "for query in results_mt[:500]:\n",
    "    if query.lower().find('select')!=-1:\n",
    "        end_index1 = query.find(';') if query.find(';')>0  else len(query)\n",
    "        end_index2 = query.find('\\n') if query.find('\\n')>0 else len(query)\n",
    "        \n",
    "        filtered_query = query[query.lower().find('select'):min(end_index1,end_index2)]\n",
    "        pred_queries.append(filtered_query)\n",
    "    else:\n",
    "        pred_queries.append(-1)\n",
    "\n",
    "with open('pred_mt_v2.sql','w') as f:\n",
    "    for rec in pred_queries:\n",
    "        line = f\"{rec}\\n\"\n",
    "        f.write(line)"
   ]
  },
  {
   "cell_type": "code",
   "execution_count": 14,
   "id": "22ac1f2f-866b-4bf5-93af-55f10b312aa4",
   "metadata": {},
   "outputs": [],
   "source": [
    "import pickle\n",
    "with open('results_preprocessing_mt.pkl', 'rb') as f:\n",
    "    res_codegen = pickle.load(f)"
   ]
  },
  {
   "cell_type": "code",
   "execution_count": 15,
   "id": "1012cfeb-2c37-4074-83bf-50117a8222cd",
   "metadata": {},
   "outputs": [],
   "source": [
    "pred_codegen_queries = []\n",
    "for query in res_codegen:\n",
    "    if query.lower().find('select')!=-1:\n",
    "        end_index1 = query.find(';') if query.find(';')>0  else len(query)\n",
    "        end_index2 = query.find('\\n') if query.find('\\n')>0 else len(query)\n",
    "        \n",
    "        filtered_query = query[query.lower().find('select'):min(end_index1,end_index2)]\n",
    "        pred_codegen_queries.append(filtered_query)\n",
    "    else:\n",
    "        pred_codegen_queries.append(-1)\n",
    "\n",
    "with open('pred_codegen_mt.sql','w') as f:\n",
    "    for rec in pred_codegen_queries:\n",
    "        line = f\"{rec}\\n\"\n",
    "        f.write(line)"
   ]
  },
  {
   "cell_type": "markdown",
   "id": "56fdfa90-94b3-432b-b6aa-803dcbc953a3",
   "metadata": {},
   "source": [
    "## unaliasing"
   ]
  },
  {
   "cell_type": "code",
   "execution_count": 29,
   "id": "cda227fc-b6b3-45b5-bfe2-22e4d6d7f09f",
   "metadata": {
    "scrolled": true
   },
   "outputs": [
    {
     "name": "stderr",
     "output_type": "stream",
     "text": [
      "Argument 'format' is not supported for expression 'ToChar' when targeting Dialect.\n",
      "Argument 'format' is not supported for expression 'ToChar' when targeting Dialect.\n",
      "Argument 'format' is not supported for expression 'ToChar' when targeting Dialect.\n",
      "Argument 'format' is not supported for expression 'ToChar' when targeting Dialect.\n",
      "Argument 'format' is not supported for expression 'ToChar' when targeting Dialect.\n",
      "Argument 'format' is not supported for expression 'ToChar' when targeting Dialect.\n",
      "Argument 'format' is not supported for expression 'ToChar' when targeting Dialect.\n",
      "Argument 'format' is not supported for expression 'ToChar' when targeting Dialect.\n",
      "Argument 'format' is not supported for expression 'ToChar' when targeting Dialect.\n",
      "Argument 'format' is not supported for expression 'ToChar' when targeting Dialect.\n",
      "Argument 'format' is not supported for expression 'ToChar' when targeting Dialect.\n",
      "Argument 'format' is not supported for expression 'ToChar' when targeting Dialect.\n",
      "Argument 'format' is not supported for expression 'ToChar' when targeting Dialect.\n",
      "Argument 'format' is not supported for expression 'ToChar' when targeting Dialect.\n",
      "Argument 'format' is not supported for expression 'ToChar' when targeting Dialect.\n",
      "Argument 'format' is not supported for expression 'ToChar' when targeting Dialect.\n",
      "Argument 'format' is not supported for expression 'ToChar' when targeting Dialect.\n",
      "Argument 'format' is not supported for expression 'ToChar' when targeting Dialect.\n",
      "Argument 'format' is not supported for expression 'ToChar' when targeting Dialect.\n",
      "Argument 'format' is not supported for expression 'ToChar' when targeting Dialect.\n",
      "Argument 'format' is not supported for expression 'ToChar' when targeting Dialect.\n",
      "Argument 'format' is not supported for expression 'ToChar' when targeting Dialect.\n",
      "Argument 'format' is not supported for expression 'ToChar' when targeting Dialect.\n",
      "Argument 'format' is not supported for expression 'ToChar' when targeting Dialect.\n",
      "Argument 'format' is not supported for expression 'ToChar' when targeting Dialect.\n",
      "Argument 'format' is not supported for expression 'ToChar' when targeting Dialect.\n",
      "Argument 'format' is not supported for expression 'ToChar' when targeting Dialect.\n",
      "Argument 'format' is not supported for expression 'ToChar' when targeting Dialect.\n",
      "Argument 'format' is not supported for expression 'ToChar' when targeting Dialect.\n",
      "Argument 'format' is not supported for expression 'ToChar' when targeting Dialect.\n",
      "Argument 'format' is not supported for expression 'ToChar' when targeting Dialect.\n",
      "Argument 'format' is not supported for expression 'ToChar' when targeting Dialect.\n",
      "Argument 'format' is not supported for expression 'ToChar' when targeting Dialect.\n",
      "Argument 'format' is not supported for expression 'ToChar' when targeting Dialect.\n",
      "Argument 'format' is not supported for expression 'ToChar' when targeting Dialect.\n",
      "Argument 'format' is not supported for expression 'ToChar' when targeting Dialect.\n",
      "Argument 'format' is not supported for expression 'ToChar' when targeting Dialect.\n",
      "Argument 'format' is not supported for expression 'ToChar' when targeting Dialect.\n"
     ]
    }
   ],
   "source": [
    "import sqlglot\n",
    "ua_queries = []\n",
    "fails = 0\n",
    "fails_list = []\n",
    "\n",
    "for query in pred_codegen_queries:\n",
    "    try:\n",
    "        qt = sqlglot.parse_one(query)\n",
    "        for t in qt.find_all(sqlglot.exp.Alias):\n",
    "            t.replace(t.unalias())\n",
    "        ua_queries.append(qt.sql())\n",
    "    except:\n",
    "        fails+=1\n",
    "        fails_list.append(query)\n",
    "        ua_queries.append(query)"
   ]
  },
  {
   "cell_type": "code",
   "execution_count": 32,
   "id": "e087958c-ea2b-4fea-9540-e44ecda76650",
   "metadata": {},
   "outputs": [],
   "source": [
    "with open('pred_codegen_ua.sql','w') as f:\n",
    "    for rec in ua_queries:\n",
    "        line = f\"{rec}\\n\"\n",
    "        f.write(line)"
   ]
  },
  {
   "cell_type": "markdown",
   "id": "fa7b59cb-dcca-4675-8181-11f48f5755b3",
   "metadata": {},
   "source": [
    "## check parsability"
   ]
  },
  {
   "cell_type": "code",
   "execution_count": 35,
   "id": "3bfe6ba6-89df-46a5-8aee-6961cdad8e21",
   "metadata": {},
   "outputs": [],
   "source": [
    "import process_sql"
   ]
  },
  {
   "cell_type": "code",
   "execution_count": 43,
   "id": "944a170a-8df3-4270-9f9a-e7a869d148e4",
   "metadata": {},
   "outputs": [],
   "source": [
    "fails = 0\n",
    "for q, db in zip(pred_queries,single_table_queries) :\n",
    "    try:\n",
    "        database = f\"spider_data/database/{db['db_id']}/{db['db_id']}.sqlite\"\n",
    "        schema = process_sql.get_schema(database)\n",
    "        process_sql.get_sql(process_sql.Schema(schema), q)\n",
    "    except:\n",
    "        fails+=1"
   ]
  },
  {
   "cell_type": "code",
   "execution_count": 44,
   "id": "ef685bff-981c-464c-8184-264436ed3829",
   "metadata": {},
   "outputs": [
    {
     "data": {
      "text/plain": [
       "3094"
      ]
     },
     "execution_count": 44,
     "metadata": {},
     "output_type": "execute_result"
    }
   ],
   "source": [
    "fails"
   ]
  },
  {
   "cell_type": "code",
   "execution_count": 47,
   "id": "537e605a-647e-457c-9fb7-debc92d60509",
   "metadata": {},
   "outputs": [],
   "source": [
    "fails = 0\n",
    "with open('pred_ua.sql') as f:\n",
    "    qu = f.readlines()\n",
    "    \n",
    "for q, db in zip(qu,single_table_queries) :\n",
    "    try:\n",
    "        database = f\"spider_data/database/{db['db_id']}/{db['db_id']}.sqlite\"\n",
    "        schema = process_sql.get_schema(database)\n",
    "        process_sql.get_sql(process_sql.Schema(schema), q.strip())\n",
    "    except:\n",
    "        fails+=1"
   ]
  },
  {
   "cell_type": "code",
   "execution_count": 48,
   "id": "68fa95d2-7aa0-42f7-812d-734eb18142fe",
   "metadata": {},
   "outputs": [
    {
     "data": {
      "text/plain": [
       "1963"
      ]
     },
     "execution_count": 48,
     "metadata": {},
     "output_type": "execute_result"
    }
   ],
   "source": [
    "fails"
   ]
  },
  {
   "cell_type": "code",
   "execution_count": 45,
   "id": "46b9f13b-25e2-4cd1-b70f-2966698bf8bb",
   "metadata": {},
   "outputs": [],
   "source": [
    "fails = 0\n",
    "for q, db in zip(pred_codegen_queries,single_table_queries) :\n",
    "    try:\n",
    "        database = f\"spider_data/database/{db['db_id']}/{db['db_id']}.sqlite\"\n",
    "        schema = process_sql.get_schema(database)\n",
    "        process_sql.get_sql(process_sql.Schema(schema), q)\n",
    "    except:\n",
    "        fails+=1"
   ]
  },
  {
   "cell_type": "code",
   "execution_count": 46,
   "id": "729dc3bb-284d-42b3-8b82-1666b106c774",
   "metadata": {},
   "outputs": [
    {
     "data": {
      "text/plain": [
       "2853"
      ]
     },
     "execution_count": 46,
     "metadata": {},
     "output_type": "execute_result"
    }
   ],
   "source": [
    "fails"
   ]
  },
  {
   "cell_type": "code",
   "execution_count": 49,
   "id": "1dcbccfe-edba-46a4-a304-6a6780dd44a9",
   "metadata": {},
   "outputs": [],
   "source": [
    "fails = 0\n",
    "with open('pred_codegen_ua.sql') as f:\n",
    "    qu = f.readlines()\n",
    "    \n",
    "for q, db in zip(qu,single_table_queries) :\n",
    "    try:\n",
    "        database = f\"spider_data/database/{db['db_id']}/{db['db_id']}.sqlite\"\n",
    "        schema = process_sql.get_schema(database)\n",
    "        process_sql.get_sql(process_sql.Schema(schema), q.strip())\n",
    "    except:\n",
    "        fails+=1"
   ]
  },
  {
   "cell_type": "code",
   "execution_count": 50,
   "id": "87e876cb-8ce1-44bf-948a-2ae644f7421f",
   "metadata": {},
   "outputs": [
    {
     "data": {
      "text/plain": [
       "1832"
      ]
     },
     "execution_count": 50,
     "metadata": {},
     "output_type": "execute_result"
    }
   ],
   "source": [
    "fails"
   ]
  },
  {
   "cell_type": "markdown",
   "id": "833b4314-86f4-4691-bb10-f042d1726393",
   "metadata": {},
   "source": [
    "## executability"
   ]
  },
  {
   "cell_type": "code",
   "execution_count": 26,
   "id": "a7d0758c-7eb0-4df8-84e9-d16433c41d2a",
   "metadata": {},
   "outputs": [],
   "source": [
    "with open('spider_gold_mt.sql') as f:\n",
    "    gold_sql = f.readlines()\n",
    "\n",
    "with open('pred_mt_v2.sql') as f:\n",
    "    pred_queries = f.readlines()\n",
    "\n",
    "with open('pred_codegen_mt.sql') as f:\n",
    "    pred_codegen_queries = f.readlines()"
   ]
  },
  {
   "cell_type": "code",
   "execution_count": 27,
   "id": "29b21474-45a5-4371-950b-0df7d20aff78",
   "metadata": {},
   "outputs": [
    {
     "data": {
      "text/plain": [
       "(500, 500, 500)"
      ]
     },
     "execution_count": 27,
     "metadata": {},
     "output_type": "execute_result"
    }
   ],
   "source": [
    "len(gold_sql), len(pred_queries), len(pred_codegen_queries)"
   ]
  },
  {
   "cell_type": "code",
   "execution_count": 28,
   "id": "d088f81b-4c58-487c-82cb-55c3d67c0934",
   "metadata": {},
   "outputs": [],
   "source": [
    "import sqlite3\n",
    "execution_results = []\n",
    "for g,p,pc in zip(gold_sql, pred_queries, pred_codegen_queries):\n",
    "    results = {}\n",
    "    g = g.strip().split('\\t')\n",
    "    p = str(p).strip()\n",
    "    pc = str(pc).strip()\n",
    "\n",
    "    db = f\"spider_data/database/{g[1]}/{g[1]}.sqlite\"\n",
    "    con = sqlite3.connect(db)\n",
    "\n",
    "    try:\n",
    "        df = pd.read_sql_query(g[0],con)\n",
    "        results['gold_data'] = df\n",
    "    except:\n",
    "        results['gold_data'] = None\n",
    "\n",
    "    try:\n",
    "        df = pd.read_sql_query(p,con)\n",
    "        results['pred_data'] = df\n",
    "    except:\n",
    "        results['pred_data'] = None\n",
    "\n",
    "    try:\n",
    "        df = pd.read_sql_query(pc,con)\n",
    "        results['pred_codegen_data'] = df\n",
    "    except:\n",
    "        results['pred_codegen_data'] = None\n",
    "\n",
    "    con.close()\n",
    "    results['g'] = g\n",
    "    results['p'] = p\n",
    "    results['pc'] = pc\n",
    "\n",
    "    execution_results.append(results)"
   ]
  },
  {
   "cell_type": "code",
   "execution_count": 29,
   "id": "d5f8ad36-fbfa-46ca-ae11-d0dcb15513f5",
   "metadata": {},
   "outputs": [],
   "source": [
    "gfails, pfails, pcfails = 0,0,0\n",
    "\n",
    "for res in execution_results:\n",
    "    if res['gold_data'] is None:\n",
    "        gfails+=1\n",
    "\n",
    "    if res['pred_data'] is None:\n",
    "        pfails+=1\n",
    "\n",
    "    if res['pred_codegen_data'] is None:\n",
    "        pcfails+=1"
   ]
  },
  {
   "cell_type": "code",
   "execution_count": 30,
   "id": "c383fa3b-2d1a-4747-92df-d2148dcb262f",
   "metadata": {},
   "outputs": [
    {
     "data": {
      "text/plain": [
       "(0, 286, 294)"
      ]
     },
     "execution_count": 30,
     "metadata": {},
     "output_type": "execute_result"
    }
   ],
   "source": [
    "gfails, pfails, pcfails"
   ]
  },
  {
   "cell_type": "code",
   "execution_count": 43,
   "id": "218f0eb8-08dc-4740-a0db-9af88c84e66b",
   "metadata": {},
   "outputs": [],
   "source": [
    "l = [rec for rec in execution_results if (rec['pred_data'] is None) and (rec['pred_codegen_data'] is not None)]"
   ]
  },
  {
   "cell_type": "code",
   "execution_count": 44,
   "id": "d3eab68a-29b2-43ee-85b3-690536ae7963",
   "metadata": {},
   "outputs": [
    {
     "data": {
      "text/plain": [
       "52"
      ]
     },
     "execution_count": 44,
     "metadata": {},
     "output_type": "execute_result"
    }
   ],
   "source": [
    "len(l)"
   ]
  },
  {
   "cell_type": "code",
   "execution_count": 34,
   "id": "6fc94df3-9d99-4349-8d51-596a2570c2d4",
   "metadata": {},
   "outputs": [
    {
     "data": {
      "text/plain": [
       "{'gold_data':    count(*)\n",
       " 0       999,\n",
       " 'pred_data': None,\n",
       " 'pred_codegen_data':    COUNT(*)\n",
       " 0      9959,\n",
       " 'g': ['SELECT count(*) FROM trip AS T1 JOIN station AS T2 ON T1.end_station_id  =  T2.id WHERE T2.city != \"San Francisco\"',\n",
       "  'bike_1'],\n",
       " 'p': \"SELECT COUNT(*) AS total_trips FROM trip WHERE end_station_name not ilike '%San%Francisco%'\",\n",
       " 'pc': \"SELECT COUNT(*) FROM trip WHERE end_station_name != 'San Francisco'\"}"
      ]
     },
     "execution_count": 34,
     "metadata": {},
     "output_type": "execute_result"
    }
   ],
   "source": [
    "l[10]"
   ]
  },
  {
   "cell_type": "markdown",
   "id": "bbb3c82c-3c75-4910-b19b-0a3a306ec4fa",
   "metadata": {},
   "source": [
    "## execution_accuracy"
   ]
  },
  {
   "cell_type": "code",
   "execution_count": 37,
   "id": "99874490-4325-4877-9414-4d65ed955599",
   "metadata": {},
   "outputs": [],
   "source": [
    "fails = 0\n",
    "total_compare = 0\n",
    "fails_list = []\n",
    "\n",
    "for i, rec in enumerate(execution_results):\n",
    "    if rec['gold_data'] is not None and rec['pred_data'] is not None:\n",
    "        total_compare+=1\n",
    "\n",
    "        if rec['gold_data'].shape!=rec['pred_data'].shape:\n",
    "            fails+=1\n",
    "            fails_list.append(i)\n",
    "        else:\n",
    "            if (np.sort(rec['pred_data'].astype('str').to_numpy().flatten())==np.sort(rec['gold_data'].astype('str').to_numpy().flatten())).all():\n",
    "                pass\n",
    "            else:\n",
    "                fails+=1\n",
    "                fails_list.append(i)"
   ]
  },
  {
   "cell_type": "code",
   "execution_count": 38,
   "id": "f2e87cda-2718-476f-943d-d57f144f4cdc",
   "metadata": {},
   "outputs": [
    {
     "data": {
      "text/plain": [
       "(214, 106, 108)"
      ]
     },
     "execution_count": 38,
     "metadata": {},
     "output_type": "execute_result"
    }
   ],
   "source": [
    "total_compare, fails, total_compare-fails"
   ]
  },
  {
   "cell_type": "code",
   "execution_count": 39,
   "id": "7284751a-1ef3-4af3-88fa-3aacf82bace4",
   "metadata": {},
   "outputs": [],
   "source": [
    "fails = 0\n",
    "total_compare = 0\n",
    "fails_list = []\n",
    "\n",
    "for i, rec in enumerate(execution_results):\n",
    "    if rec['gold_data'] is not None and rec['pred_codegen_data'] is not None:\n",
    "        total_compare+=1\n",
    "\n",
    "        if rec['gold_data'].shape!=rec['pred_codegen_data'].shape:\n",
    "            fails+=1\n",
    "            fails_list.append(i)\n",
    "        else:\n",
    "            if (np.sort(rec['pred_codegen_data'].astype('str').to_numpy().flatten())==np.sort(rec['gold_data'].astype('str').to_numpy().flatten())).all():\n",
    "                pass\n",
    "            else:\n",
    "                \n",
    "                fails+=1\n",
    "                fails_list.append(i)"
   ]
  },
  {
   "cell_type": "code",
   "execution_count": 40,
   "id": "0a580105-5add-4bdd-b1a3-cd2959a58e08",
   "metadata": {},
   "outputs": [
    {
     "data": {
      "text/plain": [
       "(206, 106, 100)"
      ]
     },
     "execution_count": 40,
     "metadata": {},
     "output_type": "execute_result"
    }
   ],
   "source": [
    "total_compare, fails, total_compare-fails"
   ]
  },
  {
   "cell_type": "code",
   "execution_count": 57,
   "id": "ae148039-2fed-4683-bc05-9d878b5350ab",
   "metadata": {},
   "outputs": [],
   "source": [
    "fails = 0\n",
    "total_compare = 0\n",
    "fails_list = []\n",
    "corrected_by_cg = 0\n",
    "corrected_list = []\n",
    "\n",
    "for i, rec in enumerate(execution_results):\n",
    "    fail_llm = True\n",
    "    fail_codegen = True\n",
    "    \n",
    "    if rec['gold_data'] is not None and rec['pred_data'] is not None:\n",
    "        total_compare+=1\n",
    "\n",
    "        if rec['gold_data'].shape!=rec['pred_data'].shape:\n",
    "            fails+=1\n",
    "            fails_list.append(i)\n",
    "            \n",
    "        else:\n",
    "            if (np.sort(rec['pred_data'].astype('str').to_numpy().flatten())==np.sort(rec['gold_data'].astype('str').to_numpy().flatten())).all():\n",
    "                fail_llm=False\n",
    "                pass\n",
    "            else:\n",
    "                fails+=1\n",
    "                fails_list.append(i)\n",
    "\n",
    "    if rec['gold_data'] is not None and rec['pred_codegen_data'] is not None:\n",
    "        total_compare+=1\n",
    "\n",
    "        if rec['gold_data'].shape!=rec['pred_codegen_data'].shape:\n",
    "            fails+=1\n",
    "            fails_list.append(i)\n",
    "            \n",
    "        else:\n",
    "            if (np.sort(rec['gold_data'].astype('str').to_numpy().flatten())==np.sort(rec['pred_codegen_data'].astype('str').to_numpy().flatten())).all():\n",
    "                fail_codegen=False\n",
    "                pass\n",
    "                \n",
    "            else:\n",
    "                fails+=1\n",
    "                fails_list.append(i)\n",
    "\n",
    "    if fail_llm==True and fail_codegen==False:\n",
    "        corrected_by_cg+=1\n",
    "        corrected_list.append(i)"
   ]
  },
  {
   "cell_type": "code",
   "execution_count": 58,
   "id": "1f27abfb-090c-4f82-877b-de0d83d4a240",
   "metadata": {},
   "outputs": [
    {
     "data": {
      "text/plain": [
       "23"
      ]
     },
     "execution_count": 58,
     "metadata": {},
     "output_type": "execute_result"
    }
   ],
   "source": [
    "corrected_by_cg"
   ]
  },
  {
   "cell_type": "code",
   "execution_count": 62,
   "id": "34ddc075-4137-4e0a-8b47-6278fa3073e7",
   "metadata": {},
   "outputs": [
    {
     "data": {
      "text/plain": [
       "{'gold_data':   Hardware_Model_name\n",
       " 0  XPERIA T, XPERIA J,\n",
       " 'pred_data':     Model_name\n",
       " 0  X5 high end,\n",
       " 'pred_codegen_data':   Hardware_Model_name\n",
       " 0  XPERIA T, XPERIA J,\n",
       " 'g': ['SELECT T2.Hardware_Model_name FROM chip_model AS T1 JOIN phone AS T2 ON T1.Model_name  =  T2.chip_model WHERE T1.Launch_year = 2002 ORDER BY T1.RAM_MiB DESC LIMIT 1;',\n",
       "  'phone_1'],\n",
       " 'p': 'SELECT chip_model.Model_name FROM chip_model WHERE launch_year = 2002 ORDER BY RAM_MiB DESC LIMIT 1',\n",
       " 'pc': 'SELECT phone.hardware_model_name FROM phone JOIN chip_model ON phone.chip_model = chip_model.model_name WHERE chip_model.launch_year = 2002 ORDER BY chip_model.ram_mib DESC LIMIT 1'}"
      ]
     },
     "execution_count": 62,
     "metadata": {},
     "output_type": "execute_result"
    }
   ],
   "source": [
    "execution_results[corrected_list[15]]"
   ]
  }
 ],
 "metadata": {
  "kernelspec": {
   "display_name": "Python3 (main venv)",
   "language": "python",
   "name": "main"
  },
  "language_info": {
   "codemirror_mode": {
    "name": "ipython",
    "version": 3
   },
   "file_extension": ".py",
   "mimetype": "text/x-python",
   "name": "python",
   "nbconvert_exporter": "python",
   "pygments_lexer": "ipython3",
   "version": "3.12.11"
  }
 },
 "nbformat": 4,
 "nbformat_minor": 5
}
