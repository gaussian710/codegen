{
 "cells": [
  {
   "cell_type": "code",
   "execution_count": 6,
   "id": "51c56e2c-108e-43b7-8655-0e8f324c48f5",
   "metadata": {},
   "outputs": [],
   "source": [
    "import json\n",
    "import pandas as pd\n",
    "import numpy as np\n",
    "import pickle"
   ]
  },
  {
   "cell_type": "code",
   "execution_count": 3,
   "id": "1d261727-a4b8-4d57-884b-d0c5fac49fc2",
   "metadata": {},
   "outputs": [],
   "source": [
    "with open('spider_data/train_spider.json') as f:\n",
    "    query_data = json.load(f)\n",
    "\n",
    "with open('spider_data/tables.json') as f:\n",
    "    table_data = json.load(f)\n",
    "\n",
    "multi_table_queries = [query for query in query_data if len(query['sql']['from']['table_units'])>1]"
   ]
  },
  {
   "cell_type": "code",
   "execution_count": 12,
   "id": "2a15e7c9-aac3-427b-85ca-78686af784bb",
   "metadata": {},
   "outputs": [],
   "source": [
    "with open('spider_gold_mt.sql','w') as f:\n",
    "    for rec in multi_table_queries[:500]:\n",
    "        q = rec['query'].replace('\\t',' ')\n",
    "        line = f\"{q}\\t{rec['db_id']}\\n\"\n",
    "        f.write(line)"
   ]
  },
  {
   "cell_type": "code",
   "execution_count": 8,
   "id": "ecebd0c3-c56e-43e8-920a-681e698fc58d",
   "metadata": {},
   "outputs": [],
   "source": [
    "with open('results_mt.pkl','rb') as f:\n",
    "    results_mt = pickle.load(f)"
   ]
  },
  {
   "cell_type": "code",
   "execution_count": 11,
   "id": "24eb4750-05ba-4bd7-9c3b-8a58d621e241",
   "metadata": {},
   "outputs": [],
   "source": [
    "pred_queries = []\n",
    "for query in results_mt[:500]:\n",
    "    if query.lower().find('select')!=-1:\n",
    "        filtered_query = query[query.lower().find('select'):query.find(';')]\n",
    "        pred_queries.append(filtered_query)\n",
    "    else:\n",
    "        pred_queries.append(-1)\n",
    "\n",
    "with open('pred_mt.sql','w') as f:\n",
    "    for rec in pred_queries:\n",
    "        line = f\"{rec}\\n\"\n",
    "        f.write(line)        "
   ]
  },
  {
   "cell_type": "code",
   "execution_count": 17,
   "id": "16d5cb4d-2012-41aa-8bc3-85bb100b3ad2",
   "metadata": {},
   "outputs": [],
   "source": [
    "pred_queries = []\n",
    "for query in results_mt[:500]:\n",
    "    if query.lower().find('select')!=-1:\n",
    "        end_index1 = query.find(';') if query.find(';')>0  else len(query)\n",
    "        end_index2 = query.find('\\n') if query.find('\\n')>0 else len(query)\n",
    "        \n",
    "        filtered_query = query[query.lower().find('select'):min(end_index1,end_index2)]\n",
    "        pred_queries.append(filtered_query)\n",
    "    else:\n",
    "        pred_queries.append(-1)\n",
    "\n",
    "with open('pred_mt.sql','w') as f:\n",
    "    for rec in pred_queries:\n",
    "        line = f\"{rec}\\n\"\n",
    "        f.write(line)"
   ]
  },
  {
   "cell_type": "code",
   "execution_count": 14,
   "id": "22ac1f2f-866b-4bf5-93af-55f10b312aa4",
   "metadata": {},
   "outputs": [],
   "source": [
    "import pickle\n",
    "with open('results_preprocessing_mt.pkl', 'rb') as f:\n",
    "    res_codegen = pickle.load(f)"
   ]
  },
  {
   "cell_type": "code",
   "execution_count": 15,
   "id": "1012cfeb-2c37-4074-83bf-50117a8222cd",
   "metadata": {},
   "outputs": [],
   "source": [
    "pred_codegen_queries = []\n",
    "for query in res_codegen:\n",
    "    if query.lower().find('select')!=-1:\n",
    "        end_index1 = query.find(';') if query.find(';')>0  else len(query)\n",
    "        end_index2 = query.find('\\n') if query.find('\\n')>0 else len(query)\n",
    "        \n",
    "        filtered_query = query[query.lower().find('select'):min(end_index1,end_index2)]\n",
    "        pred_codegen_queries.append(filtered_query)\n",
    "    else:\n",
    "        pred_codegen_queries.append(-1)\n",
    "\n",
    "with open('pred_codegen_mt.sql','w') as f:\n",
    "    for rec in pred_codegen_queries:\n",
    "        line = f\"{rec}\\n\"\n",
    "        f.write(line)"
   ]
  },
  {
   "cell_type": "markdown",
   "id": "56fdfa90-94b3-432b-b6aa-803dcbc953a3",
   "metadata": {},
   "source": [
    "## unaliasing"
   ]
  },
  {
   "cell_type": "code",
   "execution_count": 29,
   "id": "cda227fc-b6b3-45b5-bfe2-22e4d6d7f09f",
   "metadata": {
    "scrolled": true
   },
   "outputs": [
    {
     "name": "stderr",
     "output_type": "stream",
     "text": [
      "Argument 'format' is not supported for expression 'ToChar' when targeting Dialect.\n",
      "Argument 'format' is not supported for expression 'ToChar' when targeting Dialect.\n",
      "Argument 'format' is not supported for expression 'ToChar' when targeting Dialect.\n",
      "Argument 'format' is not supported for expression 'ToChar' when targeting Dialect.\n",
      "Argument 'format' is not supported for expression 'ToChar' when targeting Dialect.\n",
      "Argument 'format' is not supported for expression 'ToChar' when targeting Dialect.\n",
      "Argument 'format' is not supported for expression 'ToChar' when targeting Dialect.\n",
      "Argument 'format' is not supported for expression 'ToChar' when targeting Dialect.\n",
      "Argument 'format' is not supported for expression 'ToChar' when targeting Dialect.\n",
      "Argument 'format' is not supported for expression 'ToChar' when targeting Dialect.\n",
      "Argument 'format' is not supported for expression 'ToChar' when targeting Dialect.\n",
      "Argument 'format' is not supported for expression 'ToChar' when targeting Dialect.\n",
      "Argument 'format' is not supported for expression 'ToChar' when targeting Dialect.\n",
      "Argument 'format' is not supported for expression 'ToChar' when targeting Dialect.\n",
      "Argument 'format' is not supported for expression 'ToChar' when targeting Dialect.\n",
      "Argument 'format' is not supported for expression 'ToChar' when targeting Dialect.\n",
      "Argument 'format' is not supported for expression 'ToChar' when targeting Dialect.\n",
      "Argument 'format' is not supported for expression 'ToChar' when targeting Dialect.\n",
      "Argument 'format' is not supported for expression 'ToChar' when targeting Dialect.\n",
      "Argument 'format' is not supported for expression 'ToChar' when targeting Dialect.\n",
      "Argument 'format' is not supported for expression 'ToChar' when targeting Dialect.\n",
      "Argument 'format' is not supported for expression 'ToChar' when targeting Dialect.\n",
      "Argument 'format' is not supported for expression 'ToChar' when targeting Dialect.\n",
      "Argument 'format' is not supported for expression 'ToChar' when targeting Dialect.\n",
      "Argument 'format' is not supported for expression 'ToChar' when targeting Dialect.\n",
      "Argument 'format' is not supported for expression 'ToChar' when targeting Dialect.\n",
      "Argument 'format' is not supported for expression 'ToChar' when targeting Dialect.\n",
      "Argument 'format' is not supported for expression 'ToChar' when targeting Dialect.\n",
      "Argument 'format' is not supported for expression 'ToChar' when targeting Dialect.\n",
      "Argument 'format' is not supported for expression 'ToChar' when targeting Dialect.\n",
      "Argument 'format' is not supported for expression 'ToChar' when targeting Dialect.\n",
      "Argument 'format' is not supported for expression 'ToChar' when targeting Dialect.\n",
      "Argument 'format' is not supported for expression 'ToChar' when targeting Dialect.\n",
      "Argument 'format' is not supported for expression 'ToChar' when targeting Dialect.\n",
      "Argument 'format' is not supported for expression 'ToChar' when targeting Dialect.\n",
      "Argument 'format' is not supported for expression 'ToChar' when targeting Dialect.\n",
      "Argument 'format' is not supported for expression 'ToChar' when targeting Dialect.\n",
      "Argument 'format' is not supported for expression 'ToChar' when targeting Dialect.\n"
     ]
    }
   ],
   "source": [
    "import sqlglot\n",
    "ua_queries = []\n",
    "fails = 0\n",
    "fails_list = []\n",
    "\n",
    "for query in pred_codegen_queries:\n",
    "    try:\n",
    "        qt = sqlglot.parse_one(query)\n",
    "        for t in qt.find_all(sqlglot.exp.Alias):\n",
    "            t.replace(t.unalias())\n",
    "        ua_queries.append(qt.sql())\n",
    "    except:\n",
    "        fails+=1\n",
    "        fails_list.append(query)\n",
    "        ua_queries.append(query)"
   ]
  },
  {
   "cell_type": "code",
   "execution_count": 32,
   "id": "e087958c-ea2b-4fea-9540-e44ecda76650",
   "metadata": {},
   "outputs": [],
   "source": [
    "with open('pred_codegen_ua.sql','w') as f:\n",
    "    for rec in ua_queries:\n",
    "        line = f\"{rec}\\n\"\n",
    "        f.write(line)"
   ]
  },
  {
   "cell_type": "markdown",
   "id": "fa7b59cb-dcca-4675-8181-11f48f5755b3",
   "metadata": {},
   "source": [
    "## check parsability"
   ]
  },
  {
   "cell_type": "code",
   "execution_count": 35,
   "id": "3bfe6ba6-89df-46a5-8aee-6961cdad8e21",
   "metadata": {},
   "outputs": [],
   "source": [
    "import process_sql"
   ]
  },
  {
   "cell_type": "code",
   "execution_count": 43,
   "id": "944a170a-8df3-4270-9f9a-e7a869d148e4",
   "metadata": {},
   "outputs": [],
   "source": [
    "fails = 0\n",
    "for q, db in zip(pred_queries,single_table_queries) :\n",
    "    try:\n",
    "        database = f\"spider_data/database/{db['db_id']}/{db['db_id']}.sqlite\"\n",
    "        schema = process_sql.get_schema(database)\n",
    "        process_sql.get_sql(process_sql.Schema(schema), q)\n",
    "    except:\n",
    "        fails+=1"
   ]
  },
  {
   "cell_type": "code",
   "execution_count": 44,
   "id": "ef685bff-981c-464c-8184-264436ed3829",
   "metadata": {},
   "outputs": [
    {
     "data": {
      "text/plain": [
       "3094"
      ]
     },
     "execution_count": 44,
     "metadata": {},
     "output_type": "execute_result"
    }
   ],
   "source": [
    "fails"
   ]
  },
  {
   "cell_type": "code",
   "execution_count": 47,
   "id": "537e605a-647e-457c-9fb7-debc92d60509",
   "metadata": {},
   "outputs": [],
   "source": [
    "fails = 0\n",
    "with open('pred_ua.sql') as f:\n",
    "    qu = f.readlines()\n",
    "    \n",
    "for q, db in zip(qu,single_table_queries) :\n",
    "    try:\n",
    "        database = f\"spider_data/database/{db['db_id']}/{db['db_id']}.sqlite\"\n",
    "        schema = process_sql.get_schema(database)\n",
    "        process_sql.get_sql(process_sql.Schema(schema), q.strip())\n",
    "    except:\n",
    "        fails+=1"
   ]
  },
  {
   "cell_type": "code",
   "execution_count": 48,
   "id": "68fa95d2-7aa0-42f7-812d-734eb18142fe",
   "metadata": {},
   "outputs": [
    {
     "data": {
      "text/plain": [
       "1963"
      ]
     },
     "execution_count": 48,
     "metadata": {},
     "output_type": "execute_result"
    }
   ],
   "source": [
    "fails"
   ]
  },
  {
   "cell_type": "code",
   "execution_count": 45,
   "id": "46b9f13b-25e2-4cd1-b70f-2966698bf8bb",
   "metadata": {},
   "outputs": [],
   "source": [
    "fails = 0\n",
    "for q, db in zip(pred_codegen_queries,single_table_queries) :\n",
    "    try:\n",
    "        database = f\"spider_data/database/{db['db_id']}/{db['db_id']}.sqlite\"\n",
    "        schema = process_sql.get_schema(database)\n",
    "        process_sql.get_sql(process_sql.Schema(schema), q)\n",
    "    except:\n",
    "        fails+=1"
   ]
  },
  {
   "cell_type": "code",
   "execution_count": 46,
   "id": "729dc3bb-284d-42b3-8b82-1666b106c774",
   "metadata": {},
   "outputs": [
    {
     "data": {
      "text/plain": [
       "2853"
      ]
     },
     "execution_count": 46,
     "metadata": {},
     "output_type": "execute_result"
    }
   ],
   "source": [
    "fails"
   ]
  },
  {
   "cell_type": "code",
   "execution_count": 49,
   "id": "1dcbccfe-edba-46a4-a304-6a6780dd44a9",
   "metadata": {},
   "outputs": [],
   "source": [
    "fails = 0\n",
    "with open('pred_codegen_ua.sql') as f:\n",
    "    qu = f.readlines()\n",
    "    \n",
    "for q, db in zip(qu,single_table_queries) :\n",
    "    try:\n",
    "        database = f\"spider_data/database/{db['db_id']}/{db['db_id']}.sqlite\"\n",
    "        schema = process_sql.get_schema(database)\n",
    "        process_sql.get_sql(process_sql.Schema(schema), q.strip())\n",
    "    except:\n",
    "        fails+=1"
   ]
  },
  {
   "cell_type": "code",
   "execution_count": 50,
   "id": "87e876cb-8ce1-44bf-948a-2ae644f7421f",
   "metadata": {},
   "outputs": [
    {
     "data": {
      "text/plain": [
       "1832"
      ]
     },
     "execution_count": 50,
     "metadata": {},
     "output_type": "execute_result"
    }
   ],
   "source": [
    "fails"
   ]
  },
  {
   "cell_type": "markdown",
   "id": "833b4314-86f4-4691-bb10-f042d1726393",
   "metadata": {},
   "source": [
    "## executability"
   ]
  },
  {
   "cell_type": "code",
   "execution_count": 51,
   "id": "a7d0758c-7eb0-4df8-84e9-d16433c41d2a",
   "metadata": {},
   "outputs": [],
   "source": [
    "with open('spider_gold.sql') as f:\n",
    "    gold_sql = f.readlines()"
   ]
  },
  {
   "cell_type": "code",
   "execution_count": 59,
   "id": "d088f81b-4c58-487c-82cb-55c3d67c0934",
   "metadata": {},
   "outputs": [],
   "source": [
    "import sqlite3\n",
    "execution_results = []\n",
    "for g,p,pc in zip(gold_sql, pred_queries, pred_codegen_queries):\n",
    "    results = {}\n",
    "    g = g.strip().split('\\t')\n",
    "    p = str(p).strip()\n",
    "    pc = str(pc).strip()\n",
    "\n",
    "    db = f\"spider_data/database/{g[1]}/{g[1]}.sqlite\"\n",
    "    con = sqlite3.connect(db)\n",
    "\n",
    "    try:\n",
    "        df = pd.read_sql_query(g[0],con)\n",
    "        results['gold_data'] = df\n",
    "    except:\n",
    "        results['gold_data'] = None\n",
    "\n",
    "    try:\n",
    "        df = pd.read_sql_query(p,con)\n",
    "        results['pred_data'] = df\n",
    "    except:\n",
    "        results['pred_data'] = None\n",
    "\n",
    "    try:\n",
    "        df = pd.read_sql_query(pc,con)\n",
    "        results['pred_codegen_data'] = df\n",
    "    except:\n",
    "        results['pred_codegen_data'] = None\n",
    "\n",
    "    con.close()\n",
    "    results['g'] = g\n",
    "    results['p'] = p\n",
    "    results['pc'] = pc\n",
    "\n",
    "    execution_results.append(results)"
   ]
  },
  {
   "cell_type": "code",
   "execution_count": 60,
   "id": "d5f8ad36-fbfa-46ca-ae11-d0dcb15513f5",
   "metadata": {},
   "outputs": [],
   "source": [
    "gfails, pfails, pcfails = 0,0,0\n",
    "\n",
    "for res in execution_results:\n",
    "    if res['gold_data'] is None:\n",
    "        gfails+=1\n",
    "\n",
    "    if res['pred_data'] is None:\n",
    "        pfails+=1\n",
    "\n",
    "    if res['pred_codegen_data'] is None:\n",
    "        pcfails+=1"
   ]
  },
  {
   "cell_type": "code",
   "execution_count": 61,
   "id": "c383fa3b-2d1a-4747-92df-d2148dcb262f",
   "metadata": {},
   "outputs": [
    {
     "data": {
      "text/plain": [
       "(2, 1290, 1156)"
      ]
     },
     "execution_count": 61,
     "metadata": {},
     "output_type": "execute_result"
    }
   ],
   "source": [
    "gfails, pfails, pcfails"
   ]
  },
  {
   "cell_type": "markdown",
   "id": "bbb3c82c-3c75-4910-b19b-0a3a306ec4fa",
   "metadata": {},
   "source": [
    "## execution_accuracy"
   ]
  },
  {
   "cell_type": "code",
   "execution_count": null,
   "id": "99874490-4325-4877-9414-4d65ed955599",
   "metadata": {},
   "outputs": [],
   "source": [
    "fails = 0\n",
    "total_compare = 0\n",
    "fails_list = []\n",
    "\n",
    "for i, rec in enumerate(execution_results):\n",
    "    if rec['gold_data'] is not None and rec['pred_data'] is not None:\n",
    "        total_comapre+=1\n",
    "\n",
    "        if rec['gold_data'].shape!=rec['pred_data'].shape:\n",
    "            fails+=1\n",
    "            fails_list.append[i]\n",
    "        else:\n",
    "            for col1 in rec['gold_data'].columns:\n",
    "                match=False\n",
    "                for col2 in rec['pred_data'].columns:\n",
    "                    if (rec['gold_data'][col1].astype('str').sort_values().values==rec['pred_data'][col2].astype('str').sort_values().values).all():\n",
    "                        match=True\n",
    "                        break\n",
    "                if not match:\n",
    "                    break\n",
    "            \n",
    "            if not match:\n",
    "                fails+=1\n",
    "                fails_list.append(i)"
   ]
  }
 ],
 "metadata": {
  "kernelspec": {
   "display_name": "Python3 (main venv)",
   "language": "python",
   "name": "main"
  },
  "language_info": {
   "codemirror_mode": {
    "name": "ipython",
    "version": 3
   },
   "file_extension": ".py",
   "mimetype": "text/x-python",
   "name": "python",
   "nbconvert_exporter": "python",
   "pygments_lexer": "ipython3",
   "version": "3.12.11"
  }
 },
 "nbformat": 4,
 "nbformat_minor": 5
}
