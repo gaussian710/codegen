{
 "cells": [
  {
   "cell_type": "code",
   "execution_count": 1,
   "id": "f9e00d27-cefb-4bff-8398-cbb63ac9ec7d",
   "metadata": {},
   "outputs": [],
   "source": [
    "import pandas as pd\n",
    "import numpy as np\n",
    "import json\n",
    "import utils"
   ]
  },
  {
   "cell_type": "code",
   "execution_count": 2,
   "id": "9149c9f8-1219-4a78-8712-3dc9d9d095b8",
   "metadata": {},
   "outputs": [],
   "source": [
    "db_schema = \"\"\"CREATE TABLE user (\n",
    "    id NUMBER ,\n",
    "    username VARCHAR2(50) NOT NULL,\n",
    "    email VARCHAR2(100),\n",
    "    password_hash CHAR(64),\n",
    "    created_at TIMESTAMP DEFAULT CURRENT_TIMESTAMP,\n",
    "    updated_at TIMESTAMP,\n",
    "    last_login DATE,\n",
    "    age NUMBER CHECK (age >= 0),\n",
    "    is_active CHAR(1) DEFAULT 'Y',\n",
    "    profile_views NUMBER(19),\n",
    "    account_balance NUMBER(10,2),\n",
    "    referral_code VARCHAR2(20),\n",
    "    subscription_type VARCHAR2(30),\n",
    "    subscription_expiry DATE,\n",
    "    email_verified CHAR(1),\n",
    "    phone_number VARCHAR2(20),\n",
    "    country VARCHAR2(50),\n",
    "    city VARCHAR2(50),\n",
    "    zip_code VARCHAR2(10),\n",
    "    address_line1 CLOB,\n",
    "    address_line2 CLOB,\n",
    "    bio CLOB,\n",
    "    avatar_url CLOB,\n",
    "    favorite_color VARCHAR2(30),\n",
    "    preferred_language VARCHAR2(30),\n",
    "    timezone VARCHAR2(50),\n",
    "    login_attempts NUMBER DEFAULT 0,\n",
    "    password_reset_token CHAR(64),\n",
    "    password_reset_expiry TIMESTAMP,\n",
    "    session_token CHAR(64),\n",
    "    session_expiry TIMESTAMP,\n",
    "    device_type VARCHAR2(30),\n",
    "    os_version VARCHAR2(50),\n",
    "    browser_info CLOB,\n",
    "    two_factor_enabled CHAR(1),\n",
    "    two_factor_secret CHAR(32),\n",
    "    date_of_birth DATE,\n",
    "    gender VARCHAR2(10),\n",
    "    employment_status VARCHAR2(30),\n",
    "    job_title VARCHAR2(100),\n",
    "    company_name VARCHAR2(100),\n",
    "    website_url CLOB,\n",
    "    linkedin_url CLOB,\n",
    "    github_url CLOB,\n",
    "    twitter_handle VARCHAR2(50),\n",
    "    instagram_handle VARCHAR2(50),\n",
    "    youtube_channel CLOB,\n",
    "    notification_preferences CLOB, \n",
    "    metadata CLOB\n",
    ");\n",
    "\"\"\""
   ]
  },
  {
   "cell_type": "code",
   "execution_count": 3,
   "id": "0381c9ef-4240-4522-85c2-77fb9fccfed8",
   "metadata": {},
   "outputs": [],
   "source": [
    "_, col_descriptions = utils.generate_embeddings('user', db_schema)\n",
    "col_names = [name.split(',')[0].split('.')[1] for name in col_descriptions]"
   ]
  },
  {
   "cell_type": "code",
   "execution_count": 4,
   "id": "dfb7663b-fc63-494c-8ccc-f71263d07fe7",
   "metadata": {},
   "outputs": [],
   "source": [
    "col_df = pd.DataFrame({'name':col_names})"
   ]
  },
  {
   "cell_type": "markdown",
   "id": "210c5ca8-5371-475a-86b8-2d469000424b",
   "metadata": {},
   "source": [
    "## Example 1"
   ]
  },
  {
   "cell_type": "code",
   "execution_count": 5,
   "id": "e6c7e702-1dd3-4707-bcb3-94961d79206c",
   "metadata": {},
   "outputs": [],
   "source": [
    "generated_query = \"\"\"SELECT SUM(views) AS total_views FROM user WHERE account_balance > 1000\"\"\""
   ]
  },
  {
   "cell_type": "code",
   "execution_count": 6,
   "id": "c0cf8554-e5e0-482c-8e71-ed1b70e6e3fd",
   "metadata": {},
   "outputs": [],
   "source": [
    "embedding_model_name = 'mixedbread-ai/mxbai-embed-large-v1'\n",
    "qp = utils.queryPostprocessing(generated_query, {'table_name':'user', 'columns':col_df}, embedding_model_name)\n",
    "processed_query = qp.formatQuerySQLglot()"
   ]
  },
  {
   "cell_type": "code",
   "execution_count": 7,
   "id": "6d4f5d53-c593-416d-970b-712183255094",
   "metadata": {},
   "outputs": [
    {
     "data": {
      "text/plain": [
       "'SELECT SUM(profile_views) AS total_views FROM user WHERE account_balance > 1000'"
      ]
     },
     "execution_count": 7,
     "metadata": {},
     "output_type": "execute_result"
    }
   ],
   "source": [
    "processed_query"
   ]
  },
  {
   "cell_type": "markdown",
   "id": "88e793e3-e876-4a75-bfc4-3a3750372871",
   "metadata": {},
   "source": [
    "## Example 2"
   ]
  },
  {
   "cell_type": "code",
   "execution_count": 10,
   "id": "1d78e62f-c41b-4583-9fb7-3336c6ae013f",
   "metadata": {},
   "outputs": [],
   "source": [
    "generated_query = \"\"\"SELECT user, contact FROM data WHERE balance > 1000\"\"\""
   ]
  },
  {
   "cell_type": "code",
   "execution_count": 11,
   "id": "751046ed-8b53-4e4d-9005-36aa33c61de4",
   "metadata": {},
   "outputs": [
    {
     "data": {
      "text/plain": [
       "'SELECT username, phone_number FROM user WHERE account_balance > 1000'"
      ]
     },
     "execution_count": 11,
     "metadata": {},
     "output_type": "execute_result"
    }
   ],
   "source": [
    "embedding_model_name = 'mixedbread-ai/mxbai-embed-large-v1'\n",
    "qp = utils.queryPostprocessing(generated_query, {'table_name':'user', 'columns':col_df}, embedding_model_name)\n",
    "processed_query = qp.formatQuerySQLglot()\n",
    "processed_query"
   ]
  }
 ],
 "metadata": {
  "kernelspec": {
   "display_name": "Python3 (ipykernel)",
   "language": "python",
   "name": "python3"
  },
  "language_info": {
   "codemirror_mode": {
    "name": "ipython",
    "version": 3
   },
   "file_extension": ".py",
   "mimetype": "text/x-python",
   "name": "python",
   "nbconvert_exporter": "python",
   "pygments_lexer": "ipython3",
   "version": "3.12.11"
  }
 },
 "nbformat": 4,
 "nbformat_minor": 5
}
