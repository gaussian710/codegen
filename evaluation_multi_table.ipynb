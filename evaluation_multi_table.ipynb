{
 "cells": [
  {
   "cell_type": "code",
   "execution_count": 1,
   "id": "53f6c4a1-a655-48bf-a285-0eaa0cf88ee9",
   "metadata": {},
   "outputs": [],
   "source": [
    "import pandas as pd\n",
    "import numpy as np\n",
    "import json\n",
    "import utils\n",
    "import tqdm"
   ]
  },
  {
   "cell_type": "markdown",
   "id": "694f12a1-dcca-4573-8ef8-19798116d01d",
   "metadata": {},
   "source": [
    "metrics: \\\n",
    "sqtring matching score \\\n",
    "executability \\\n",
    "execution score  "
   ]
  },
  {
   "cell_type": "code",
   "execution_count": 2,
   "id": "05920262-8a2c-4c1e-a246-9a2cc1200435",
   "metadata": {},
   "outputs": [],
   "source": [
    "with open('spider_data/train_spider.json') as f:\n",
    "    query_data = json.load(f)"
   ]
  },
  {
   "cell_type": "code",
   "execution_count": 3,
   "id": "0e9dd2ae-24dd-4df5-ba4d-784b216f02ad",
   "metadata": {},
   "outputs": [],
   "source": [
    "with open('spider_data/tables.json') as f:\n",
    "    table_data = json.load(f)"
   ]
  },
  {
   "cell_type": "code",
   "execution_count": 4,
   "id": "4bccd456-165f-4eec-a390-a514a220255b",
   "metadata": {},
   "outputs": [],
   "source": [
    "table_data_dict = {rec['db_id']:rec for rec in table_data}"
   ]
  },
  {
   "cell_type": "code",
   "execution_count": 5,
   "id": "2607e0a8-738e-4814-944a-b2e3d0dd2b18",
   "metadata": {},
   "outputs": [],
   "source": [
    "multi_table_queries = [query for query in query_data if len(query['sql']['from']['table_units'])>1]"
   ]
  },
  {
   "cell_type": "code",
   "execution_count": 7,
   "id": "bd7a1ed3-23b1-4c9e-a9ce-2f5917984934",
   "metadata": {
    "jupyter": {
     "source_hidden": true
    }
   },
   "outputs": [],
   "source": [
    "query = multi_table_queries[0]\n",
    "db = query['db_id']\n",
    "table_names = table_data_dict[db]['table_names_original']"
   ]
  },
  {
   "cell_type": "code",
   "execution_count": 11,
   "id": "49e0b757-690b-4234-90fe-70e0964c5ab2",
   "metadata": {
    "jupyter": {
     "source_hidden": true
    }
   },
   "outputs": [],
   "source": [
    "schema_list = []\n",
    "for i,table in enumerate(table_names):\n",
    "    columns = []\n",
    "    for names,type in zip(table_data_dict[db]['column_names_original'],table_data_dict[db]['column_types']):\n",
    "        if names[0]==i:\n",
    "            columns.append((names[1], type))\n",
    "    \n",
    "    tbl_details = {\n",
    "        table:columns\n",
    "    }\n",
    "\n",
    "    tbl_schema = utils.format_topk_sql(tbl_details, shuffle=False)\n",
    "    schema_list.append(tbl_schema)"
   ]
  },
  {
   "cell_type": "code",
   "execution_count": 15,
   "id": "82d691c7-8541-44a8-938d-f2b554d07f3c",
   "metadata": {
    "collapsed": true,
    "jupyter": {
     "outputs_hidden": true,
     "source_hidden": true
    }
   },
   "outputs": [
    {
     "name": "stdout",
     "output_type": "stream",
     "text": [
      "\n",
      "CREATE TABLE department (\n",
      "  Department_ID number, \n",
      "  Name text, \n",
      "  Creation text, \n",
      "  Ranking number, \n",
      "  Budget_in_Billions number, \n",
      "  Num_Employees number, \n",
      ");\n",
      "\n",
      "\n",
      "CREATE TABLE head (\n",
      "  head_ID number, \n",
      "  name text, \n",
      "  born_state text, \n",
      "  age number, \n",
      ");\n",
      "\n",
      "\n",
      "CREATE TABLE management (\n",
      "  department_ID number, \n",
      "  head_ID number, \n",
      "  temporary_acting text, \n",
      ");\n",
      "\n",
      "\n"
     ]
    }
   ],
   "source": [
    "print(\"\".join(schema_list))"
   ]
  },
  {
   "cell_type": "code",
   "execution_count": 9,
   "id": "e0e17ad6-8670-485c-b2ee-ef54897cf262",
   "metadata": {},
   "outputs": [
    {
     "data": {
      "text/plain": [
       "{'column_names': [[-1, '*'],\n",
       "  [0, 'department id'],\n",
       "  [0, 'name'],\n",
       "  [0, 'creation'],\n",
       "  [0, 'ranking'],\n",
       "  [0, 'budget in billions'],\n",
       "  [0, 'num employees'],\n",
       "  [1, 'head id'],\n",
       "  [1, 'name'],\n",
       "  [1, 'born state'],\n",
       "  [1, 'age'],\n",
       "  [2, 'department id'],\n",
       "  [2, 'head id'],\n",
       "  [2, 'temporary acting']],\n",
       " 'column_names_original': [[-1, '*'],\n",
       "  [0, 'Department_ID'],\n",
       "  [0, 'Name'],\n",
       "  [0, 'Creation'],\n",
       "  [0, 'Ranking'],\n",
       "  [0, 'Budget_in_Billions'],\n",
       "  [0, 'Num_Employees'],\n",
       "  [1, 'head_ID'],\n",
       "  [1, 'name'],\n",
       "  [1, 'born_state'],\n",
       "  [1, 'age'],\n",
       "  [2, 'department_ID'],\n",
       "  [2, 'head_ID'],\n",
       "  [2, 'temporary_acting']],\n",
       " 'column_types': ['text',\n",
       "  'number',\n",
       "  'text',\n",
       "  'text',\n",
       "  'number',\n",
       "  'number',\n",
       "  'number',\n",
       "  'number',\n",
       "  'text',\n",
       "  'text',\n",
       "  'number',\n",
       "  'number',\n",
       "  'number',\n",
       "  'text'],\n",
       " 'db_id': 'department_management',\n",
       " 'foreign_keys': [[12, 7], [11, 1]],\n",
       " 'primary_keys': [1, 7, 11],\n",
       " 'table_names': ['department', 'head', 'management'],\n",
       " 'table_names_original': ['department', 'head', 'management']}"
      ]
     },
     "execution_count": 9,
     "metadata": {},
     "output_type": "execute_result"
    }
   ],
   "source": [
    "td = table_data_dict['department_management']\n",
    "td"
   ]
  },
  {
   "cell_type": "code",
   "execution_count": 13,
   "id": "2aa0cb50-6d47-4118-9cff-3af9b5d9eb8b",
   "metadata": {},
   "outputs": [],
   "source": [
    "fk_list = []\n",
    "for fk in td['foreign_keys']:\n",
    "    s1 = (td['column_names_original'][fk[0]][0], td['table_names'][td['column_names_original'][fk[0]][0]], td['column_names_original'][fk[0]][1], td['column_types'][fk[0]])\n",
    "    s2 = (td['column_names_original'][fk[1]][0], td['table_names'][td['column_names_original'][fk[1]][0]], td['column_names_original'][fk[1]][1], td['column_types'][fk[1]])\n",
    "\n",
    "    fk_list.append((s1,s2))"
   ]
  },
  {
   "cell_type": "code",
   "execution_count": 6,
   "id": "8b3f656a-0ba2-45e8-a48c-8b02bd2b38b8",
   "metadata": {},
   "outputs": [],
   "source": [
    "def get_schema(query, table_data_dict):\n",
    "    db = query['db_id']\n",
    "    # tbl_id = query['sql']['from']['table_units'][0][1]\n",
    "    table_names = table_data_dict[db]['table_names_original']\n",
    "\n",
    "    td = table_data_dict[db]\n",
    "    fk_list = []\n",
    "    for fk in table_data_dict[db]['foreign_keys']:\n",
    "        s1 = (td['column_names_original'][fk[0]][0], td['table_names'][td['column_names_original'][fk[0]][0]], td['column_names_original'][fk[0]][1], td['column_types'][fk[0]])\n",
    "        s2 = (td['column_names_original'][fk[1]][0], td['table_names'][td['column_names_original'][fk[1]][0]], td['column_names_original'][fk[1]][1], td['column_types'][fk[1]])\n",
    "    \n",
    "        fk_list.append((s1,s2))\n",
    "    \n",
    "    schema_list = []\n",
    "    for i,table in enumerate(table_names):\n",
    "        columns = []\n",
    "        for names,type in zip(table_data_dict[db]['column_names_original'],table_data_dict[db]['column_types']):\n",
    "            if names[0]==i:\n",
    "                columns.append((names[1], type))\n",
    "        \n",
    "        tbl_details = {\n",
    "            table:columns\n",
    "        }\n",
    "    \n",
    "        tbl_schema = utils.format_topk_sql(tbl_details, shuffle=False)\n",
    "        schema_list.append(tbl_schema)\n",
    "\n",
    "    schema = \"\".join(schema_list)\n",
    "    return schema, schema_list, table_names, fk_list"
   ]
  },
  {
   "cell_type": "code",
   "execution_count": 7,
   "id": "2b65ba63-283b-44df-828e-bd4a6ba71cfe",
   "metadata": {},
   "outputs": [],
   "source": [
    "prompt_template = \"\"\" \n",
    "                        ### Instructions:\n",
    "                        Your task is to convert a question into a SQL query, given a Postgres database schema.\n",
    "                        Adhere to these rules:\n",
    "                        - **Deliberately go through the question and database schema word by word** to appropriately answer the question\n",
    "                        - **Use Table Aliases** to prevent ambiguity. For example, `SELECT table1.col1, table2.col1 FROM table1 JOIN table2 ON table1.id = table2.id`.\n",
    "                        - **Do not use column aliases** \n",
    "                        - When creating a ratio, always cast the numerator as float\n",
    "                        \n",
    "                        ### Input:\n",
    "                        Generate a SQL query that answers the question {question}.\n",
    "                        This query will run on a database whose schema is represented in this string:\n",
    "                        {db_schema}\n",
    "                        \n",
    "                        \n",
    "                        ### Response:\n",
    "                        Based on your instructions, here is the SQL query I have generated to answer the question {question}:\n",
    "                        ```sql\n",
    "                        \"\"\""
   ]
  },
  {
   "cell_type": "code",
   "execution_count": 60,
   "id": "9fd743ef-2ea7-4ce1-a628-87aec07b6e73",
   "metadata": {
    "collapsed": true,
    "jupyter": {
     "outputs_hidden": true
    },
    "scrolled": true
   },
   "outputs": [
    {
     "name": "stdout",
     "output_type": "stream",
     "text": [
      "Running pre-processing...\n",
      "Pruned schema: \n",
      "CREATE TABLE head (\n",
      "  age DECIMAL(38, 0), --None\n",
      "  head_ID DECIMAL(38, 0), --None\n",
      "  name TEXT, --None\n",
      "  born_state TEXT, --None\n",
      ");\n",
      "\n",
      "\n",
      "\n",
      "CREATE TABLE head (\n",
      "  age DECIMAL(38, 0), --None\n",
      "  head_ID DECIMAL(38, 0), --None\n",
      "  name TEXT, --None\n",
      "  born_state TEXT, --None\n",
      ");\n",
      "\n",
      "\n",
      "prompt:  \n",
      "                        ### Instructions:\n",
      "                        Your task is to convert a question into a SQL query, given a Postgres database schema.\n",
      "                        Adhere to these rules:\n",
      "                        - **Deliberately go through the question and database schema word by word** to appropriately answer the question\n",
      "                        - **Use Table Aliases** to prevent ambiguity. For example, `SELECT table1.col1, table2.col1 FROM table1 JOIN table2 ON table1.id = table2.id`.\n",
      "                        - When creating a ratio, always cast the numerator as float\n",
      "                        \n",
      "                        ### Input:\n",
      "                        Generate a SQL query that answers the question How many heads of the departments are older than 56 ?.\n",
      "                        This query will run on a database whose schema is represented in this string:\n",
      "                        \n",
      "CREATE TABLE head (\n",
      "  age DECIMAL(38, 0), --None\n",
      "  head_ID DECIMAL(38, 0), --None\n",
      "  name TEXT, --None\n",
      "  born_state TEXT, --None\n",
      ");\n",
      "\n",
      "\n",
      "                        \n",
      "                        \n",
      "                        ### Response:\n",
      "                        Based on your instructions, here is the SQL query I have generated to answer the question How many heads of the departments are older than 56 ?:\n",
      "                        ```sql\n",
      "                        \n",
      "Querying sqlcoder...\n",
      "JSON resp:  SELECT COUNT(*) FROM head WHERE age > 56;\n",
      "                        ```\n",
      "Done! Generated query:  SELECT COUNT(*) FROM head WHERE age > 56;\n",
      "                        ```\n",
      "Running post-processing...\n",
      "Done! Processed query: SELECT COUNT(*) FROM head WHERE age > 56\n"
     ]
    }
   ],
   "source": [
    "model_name = 'sqlcoder'\n",
    "\n",
    "sql_query, prompt = utils.getModelResult(tbl_schema, query['question'], model_name, table_name, df)"
   ]
  },
  {
   "cell_type": "code",
   "execution_count": 16,
   "id": "04f69303-10db-4da9-96d9-6ebd6e9f0f7e",
   "metadata": {},
   "outputs": [
    {
     "data": {
      "text/plain": [
       "<module 'utils' from '/workspace/codegen/codegen/utils.py'>"
      ]
     },
     "execution_count": 16,
     "metadata": {},
     "output_type": "execute_result"
    }
   ],
   "source": [
    "from importlib import reload\n",
    "reload(utils)"
   ]
  },
  {
   "cell_type": "code",
   "execution_count": 8,
   "id": "cdc19734-485b-4555-b9df-59093f3c72b5",
   "metadata": {},
   "outputs": [],
   "source": [
    "import requests\n",
    "\n",
    "OLLAMA_URL = 'http://127.0.0.1:11434'\n",
    "class OLLAMA:\n",
    "    def __init__(self, OLLAMA_URL, model_name):\n",
    "        self.model_name = model_name\n",
    "        self.ollama_url = OLLAMA_URL\n",
    "        self.ollama_endpoint = '/api/generate'\n",
    "\n",
    "    def run(self, prompt):\n",
    "        data = {\n",
    "            'model': self.model_name,\n",
    "            'prompt': prompt,\n",
    "            'stream': False,\n",
    "            \"options\":{\"temperature\":0.0}\n",
    "        }\n",
    "\n",
    "        headers = {\n",
    "            'Accept': 'application/json',\n",
    "            'Content-Type': 'application/json'\n",
    "        }\n",
    "\n",
    "        resp = requests.post(url = f'{self.ollama_url}{self.ollama_endpoint}',\n",
    "                             data = json.dumps(data),\n",
    "                             headers = headers)\n",
    "        query = resp.json()['response']\n",
    "        # print(f'JSON resp: {query}')\n",
    "        return query"
   ]
  },
  {
   "cell_type": "code",
   "execution_count": 14,
   "id": "319689a1-fa11-4290-8154-1d2e4bbe643d",
   "metadata": {},
   "outputs": [
    {
     "name": "stderr",
     "output_type": "stream",
     "text": [
      "100%|██████████| 500/500 [23:49<00:00,  2.86s/it]\n"
     ]
    }
   ],
   "source": [
    "model_name = 'sqlcoder:7b'\n",
    "results = []\n",
    "i=0\n",
    "for query in tqdm.tqdm(multi_table_queries[:500]):\n",
    "    i+=1\n",
    "    try:\n",
    "        tbl_schema, _, _, _ = get_schema(query, table_data_dict)\n",
    "        \n",
    "        prompt = prompt_template.format(question=query['question'], db_schema=tbl_schema)\n",
    "        ollama = OLLAMA(OLLAMA_URL=utils.OLLAMA_URL, model_name=model_name)\n",
    "        generated_query = ollama.run(prompt)\n",
    "    \n",
    "        results.append(generated_query)\n",
    "    except:\n",
    "        results.append('failure\\n')\n",
    "        # if i%5==0:\n",
    "    #     with open('results.txt', 'a') as f:\n",
    "    #         for rec in results:\n",
    "    #             if '\\n' in rec:\n",
    "    #                 f.write(rec)\n",
    "    #             else:\n",
    "    #                 f.write(f\"{rec}\\n\")"
   ]
  },
  {
   "cell_type": "code",
   "execution_count": 38,
   "id": "92681aa0-3c8a-499e-af4e-12d7447ebd89",
   "metadata": {},
   "outputs": [],
   "source": [
    "import pickle"
   ]
  },
  {
   "cell_type": "code",
   "execution_count": 15,
   "id": "e06edb08-87f1-4f55-aabd-104a239f1d4f",
   "metadata": {},
   "outputs": [],
   "source": [
    "import pickle\n",
    "with open('results_mt_v2.pkl', 'wb') as f:\n",
    "    pickle.dump(results, f)"
   ]
  },
  {
   "cell_type": "code",
   "execution_count": 54,
   "id": "631c6a49-fa86-40a1-8239-7de7e1922478",
   "metadata": {},
   "outputs": [
    {
     "data": {
      "text/plain": [
       "<module 'utils' from '/workspace/codegen/codegen/utils.py'>"
      ]
     },
     "execution_count": 54,
     "metadata": {},
     "output_type": "execute_result"
    }
   ],
   "source": [
    "from importlib import reload\n",
    "reload(utils)"
   ]
  },
  {
   "cell_type": "markdown",
   "id": "6b8d41e2-0b51-4e7e-a29c-7dbdc88c8d54",
   "metadata": {},
   "source": [
    "## preprocess"
   ]
  },
  {
   "cell_type": "code",
   "execution_count": 16,
   "id": "6ca672a1-a0c4-4023-9432-18d18416cd4e",
   "metadata": {
    "collapsed": true,
    "jupyter": {
     "outputs_hidden": true,
     "source_hidden": true
    },
    "scrolled": true
   },
   "outputs": [
    {
     "data": {
      "text/plain": [
       "{'db_id': 'department_management',\n",
       " 'query': \"SELECT DISTINCT T1.creation FROM department AS T1 JOIN management AS T2 ON T1.department_id  =  T2.department_id JOIN head AS T3 ON T2.head_id  =  T3.head_id WHERE T3.born_state  =  'Alabama'\",\n",
       " 'query_toks': ['SELECT',\n",
       "  'DISTINCT',\n",
       "  'T1.creation',\n",
       "  'FROM',\n",
       "  'department',\n",
       "  'AS',\n",
       "  'T1',\n",
       "  'JOIN',\n",
       "  'management',\n",
       "  'AS',\n",
       "  'T2',\n",
       "  'ON',\n",
       "  'T1.department_id',\n",
       "  '=',\n",
       "  'T2.department_id',\n",
       "  'JOIN',\n",
       "  'head',\n",
       "  'AS',\n",
       "  'T3',\n",
       "  'ON',\n",
       "  'T2.head_id',\n",
       "  '=',\n",
       "  'T3.head_id',\n",
       "  'WHERE',\n",
       "  'T3.born_state',\n",
       "  '=',\n",
       "  \"'Alabama\",\n",
       "  \"'\"],\n",
       " 'query_toks_no_value': ['select',\n",
       "  'distinct',\n",
       "  't1',\n",
       "  '.',\n",
       "  'creation',\n",
       "  'from',\n",
       "  'department',\n",
       "  'as',\n",
       "  't1',\n",
       "  'join',\n",
       "  'management',\n",
       "  'as',\n",
       "  't2',\n",
       "  'on',\n",
       "  't1',\n",
       "  '.',\n",
       "  'department_id',\n",
       "  '=',\n",
       "  't2',\n",
       "  '.',\n",
       "  'department_id',\n",
       "  'join',\n",
       "  'head',\n",
       "  'as',\n",
       "  't3',\n",
       "  'on',\n",
       "  't2',\n",
       "  '.',\n",
       "  'head_id',\n",
       "  '=',\n",
       "  't3',\n",
       "  '.',\n",
       "  'head_id',\n",
       "  'where',\n",
       "  't3',\n",
       "  '.',\n",
       "  'born_state',\n",
       "  '=',\n",
       "  'value'],\n",
       " 'question': \"What are the distinct creation years of the departments managed by a secretary born in state 'Alabama'?\",\n",
       " 'question_toks': ['What',\n",
       "  'are',\n",
       "  'the',\n",
       "  'distinct',\n",
       "  'creation',\n",
       "  'years',\n",
       "  'of',\n",
       "  'the',\n",
       "  'departments',\n",
       "  'managed',\n",
       "  'by',\n",
       "  'a',\n",
       "  'secretary',\n",
       "  'born',\n",
       "  'in',\n",
       "  'state',\n",
       "  \"'Alabama\",\n",
       "  \"'\",\n",
       "  '?'],\n",
       " 'sql': {'from': {'table_units': [['table_unit', 0],\n",
       "    ['table_unit', 2],\n",
       "    ['table_unit', 1]],\n",
       "   'conds': [[False, 2, [0, [0, 1, False], None], [0, 11, False], None],\n",
       "    'and',\n",
       "    [False, 2, [0, [0, 12, False], None], [0, 7, False], None]]},\n",
       "  'select': [True, [[0, [0, [0, 3, False], None]]]],\n",
       "  'where': [[False, 2, [0, [0, 9, False], None], '\"Alabama\"', None]],\n",
       "  'groupBy': [],\n",
       "  'having': [],\n",
       "  'orderBy': [],\n",
       "  'limit': None,\n",
       "  'intersect': None,\n",
       "  'union': None,\n",
       "  'except': None}}"
      ]
     },
     "execution_count": 16,
     "metadata": {},
     "output_type": "execute_result"
    }
   ],
   "source": [
    "query = multi_table_queries[0]\n",
    "query"
   ]
  },
  {
   "cell_type": "code",
   "execution_count": 22,
   "id": "3c325a66-026a-47ef-81d5-aa0cd27e9ee4",
   "metadata": {
    "jupyter": {
     "source_hidden": true
    }
   },
   "outputs": [],
   "source": [
    "schema, s_list, table_names, fk = get_schema(query, table_data_dict)"
   ]
  },
  {
   "cell_type": "code",
   "execution_count": 45,
   "id": "0710f959-9df2-4737-9439-f0a801898764",
   "metadata": {
    "jupyter": {
     "source_hidden": true
    }
   },
   "outputs": [],
   "source": [
    "fk_string = ''\n",
    "for row in fk:\n",
    "    fk_string += f\"{row[0][1]}.{row[0][2]} joins with {row[1][1]}.{row[1][2]} \\n\"\n",
    "\n",
    "    if row[0][2] not in slist2[row[0][0]]:\n",
    "        idx = slist2[row[0][0]].find(');')\n",
    "        new = slist2[row[0][0]][:idx] + f'  {row[0][2]} {row[0][3]}, \\n' + slist2[row[0][0]][idx:]\n",
    "        slist2[row[0][0]] = new\n",
    "\n",
    "    if row[1][2] not in slist2[row[1][0]]:\n",
    "        idx = slist2[row[1][0]].find(');')\n",
    "        new = slist2[row[1][0]][:idx] + f'  {row[1][2]} {row[1][3]}, \\n' + slist2[row[1][0]][idx:]\n",
    "        slist2[row[1][0]] = new"
   ]
  },
  {
   "cell_type": "code",
   "execution_count": 9,
   "id": "c8d76aa4-1046-43e4-ada4-28bff3969bfe",
   "metadata": {},
   "outputs": [
    {
     "name": "stderr",
     "output_type": "stream",
     "text": [
      "100%|██████████| 500/500 [33:20<00:00,  4.00s/it]\n"
     ]
    }
   ],
   "source": [
    "# set low topk value\n",
    "model_name = 'sqlcoder:7b'\n",
    "results = []\n",
    "top_k = 8\n",
    "i = 0\n",
    "for query in tqdm.tqdm(multi_table_queries[:500]):\n",
    "    i+=1\n",
    "    try:\n",
    "        schema, s_list, table_names, fk = get_schema(query, table_data_dict)\n",
    "        pruned_schema_list = []\n",
    "        \n",
    "        for schema, table in zip(s_list, table_names):\n",
    "            pruned_schema = utils.preprocess_table(query['question'], schema, table, top_k)\n",
    "            pruned_schema_list.append(pruned_schema)\n",
    "    \n",
    "        fk_string = ''\n",
    "        for row in fk:\n",
    "            fk_string += f\"-- {row[0][1]}.{row[0][2]} can be joined with {row[1][1]}.{row[1][2]} \\n\"\n",
    "        \n",
    "            if row[0][2] not in pruned_schema_list[row[0][0]]:\n",
    "                idx = pruned_schema_list[row[0][0]].find(');')\n",
    "                new = pruned_schema_list[row[0][0]][:idx] + f'  {row[0][2]} {row[0][3]}, \\n' + pruned_schema_list[row[0][0]][idx:]\n",
    "                pruned_schema_list[row[0][0]] = new\n",
    "        \n",
    "            if row[1][2] not in pruned_schema_list[row[1][0]]:\n",
    "                idx = pruned_schema_list[row[1][0]].find(');')\n",
    "                new = pruned_schema_list[row[1][0]][:idx] + f'  {row[1][2]} {row[1][3]}, \\n' + pruned_schema_list[row[1][0]][idx:]\n",
    "                pruned_schema_list[row[1][0]] = new\n",
    "    \n",
    "        final_schema = f\"{\"\".join(pruned_schema_list)}\\n\\n{fk_string}\"\n",
    "        # print(final_schema)\n",
    "        \n",
    "        prompt = prompt_template.format(question=query['question'], db_schema=final_schema)\n",
    "        ollama = OLLAMA(OLLAMA_URL=utils.OLLAMA_URL, model_name=model_name)\n",
    "        generated_query = ollama.run(prompt)\n",
    "        results.append(generated_query)\n",
    "    except:\n",
    "        results.append('-1')\n",
    "\n",
    "    # if i%10==0:\n",
    "    #     break"
   ]
  },
  {
   "cell_type": "code",
   "execution_count": 11,
   "id": "959b3ff1-d14b-4241-bf8b-5fcd119f33b9",
   "metadata": {},
   "outputs": [
    {
     "data": {
      "text/plain": [
       "' SELECT a.name FROM flight f JOIN aircraft a ON f.aid = a.aid WHERE f.flno = 99;\\n                        ```'"
      ]
     },
     "execution_count": 11,
     "metadata": {},
     "output_type": "execute_result"
    }
   ],
   "source": [
    "results[100]"
   ]
  },
  {
   "cell_type": "code",
   "execution_count": 10,
   "id": "a36bf78c-d724-466e-8f87-d270cad1e93a",
   "metadata": {},
   "outputs": [],
   "source": [
    "import pickle\n",
    "with open('results_preprocessing_mt.pkl', 'wb') as f:\n",
    "    pickle.dump(results, f)"
   ]
  }
 ],
 "metadata": {
  "kernelspec": {
   "display_name": "Python3 (ipykernel)",
   "language": "python",
   "name": "python3"
  },
  "language_info": {
   "codemirror_mode": {
    "name": "ipython",
    "version": 3
   },
   "file_extension": ".py",
   "mimetype": "text/x-python",
   "name": "python",
   "nbconvert_exporter": "python",
   "pygments_lexer": "ipython3",
   "version": "3.12.11"
  }
 },
 "nbformat": 4,
 "nbformat_minor": 5
}
