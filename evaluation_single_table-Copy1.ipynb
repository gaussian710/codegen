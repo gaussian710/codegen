{
 "cells": [
  {
   "cell_type": "code",
   "execution_count": 1,
   "id": "53f6c4a1-a655-48bf-a285-0eaa0cf88ee9",
   "metadata": {},
   "outputs": [],
   "source": [
    "import pandas as pd\n",
    "import numpy as np\n",
    "import json\n",
    "import utils\n",
    "import tqdm"
   ]
  },
  {
   "cell_type": "markdown",
   "id": "694f12a1-dcca-4573-8ef8-19798116d01d",
   "metadata": {},
   "source": [
    "metrics: \\\n",
    "sqtring matching score \\\n",
    "executability \\\n",
    "execution score  "
   ]
  },
  {
   "cell_type": "code",
   "execution_count": 2,
   "id": "05920262-8a2c-4c1e-a246-9a2cc1200435",
   "metadata": {},
   "outputs": [],
   "source": [
    "with open('spider_data/train_spider.json') as f:\n",
    "    query_data = json.load(f)"
   ]
  },
  {
   "cell_type": "code",
   "execution_count": 3,
   "id": "0e9dd2ae-24dd-4df5-ba4d-784b216f02ad",
   "metadata": {},
   "outputs": [],
   "source": [
    "with open('spider_data/tables.json') as f:\n",
    "    table_data = json.load(f)"
   ]
  },
  {
   "cell_type": "code",
   "execution_count": 4,
   "id": "4bccd456-165f-4eec-a390-a514a220255b",
   "metadata": {},
   "outputs": [],
   "source": [
    "table_data_dict = {rec['db_id']:rec for rec in table_data}"
   ]
  },
  {
   "cell_type": "code",
   "execution_count": 5,
   "id": "8b3f656a-0ba2-45e8-a48c-8b02bd2b38b8",
   "metadata": {},
   "outputs": [],
   "source": [
    "def get_schema(query, table_data_dict):\n",
    "    db = query['db_id']\n",
    "    tbl_id = query['sql']['from']['table_units'][0][1]\n",
    "    table_name = table_data_dict[db]['table_names_original'][tbl_id]\n",
    "\n",
    "    columns = []\n",
    "    for names,type in zip(table_data_dict[db]['column_names_original'],table_data_dict[db]['column_types']):\n",
    "        if names[0]==tbl_id:\n",
    "            columns.append((names[1], type))\n",
    "    \n",
    "    tbl_details = {\n",
    "        table_name:columns\n",
    "    }\n",
    "    \n",
    "    df = pd.DataFrame(columns, columns = ['name','type'])\n",
    "    df['comment'] = np.nan\n",
    "    tbl_schema = utils.format_topk_sql(tbl_details, shuffle=False)\n",
    "\n",
    "    return tbl_schema, df, table_name"
   ]
  },
  {
   "cell_type": "code",
   "execution_count": 6,
   "id": "0bd924a5-c9e8-4298-ad14-d65cb8797ff3",
   "metadata": {},
   "outputs": [],
   "source": [
    "single_table_queries = [query for query in query_data if len(query['sql']['from']['table_units'])==1]"
   ]
  },
  {
   "cell_type": "code",
   "execution_count": 7,
   "id": "2b65ba63-283b-44df-828e-bd4a6ba71cfe",
   "metadata": {},
   "outputs": [],
   "source": [
    "prompt_template = \"\"\" \n",
    "                        ### Instructions:\n",
    "                        Your task is to convert a question into a SQL query, given a Postgres database schema.\n",
    "                        Adhere to these rules:\n",
    "                        - **Deliberately go through the question and database schema word by word** to appropriately answer the question\n",
    "                        - **Use Table Aliases** to prevent ambiguity. For example, `SELECT table1.col1, table2.col1 FROM table1 JOIN table2 ON table1.id = table2.id`.\n",
    "                        - When creating a ratio, always cast the numerator as float\n",
    "                        \n",
    "                        ### Input:\n",
    "                        Generate a SQL query that answers the question {question}.\n",
    "                        This query will run on a database whose schema is represented in this string:\n",
    "                        {db_schema}\n",
    "                        \n",
    "                        \n",
    "                        ### Response:\n",
    "                        Based on your instructions, here is the SQL query I have generated to answer the question {question}:\n",
    "                        ```sql\n",
    "                        \"\"\""
   ]
  },
  {
   "cell_type": "code",
   "execution_count": 60,
   "id": "9fd743ef-2ea7-4ce1-a628-87aec07b6e73",
   "metadata": {
    "collapsed": true,
    "jupyter": {
     "outputs_hidden": true
    },
    "scrolled": true
   },
   "outputs": [
    {
     "name": "stdout",
     "output_type": "stream",
     "text": [
      "Running pre-processing...\n",
      "Pruned schema: \n",
      "CREATE TABLE head (\n",
      "  age DECIMAL(38, 0), --None\n",
      "  head_ID DECIMAL(38, 0), --None\n",
      "  name TEXT, --None\n",
      "  born_state TEXT, --None\n",
      ");\n",
      "\n",
      "\n",
      "\n",
      "CREATE TABLE head (\n",
      "  age DECIMAL(38, 0), --None\n",
      "  head_ID DECIMAL(38, 0), --None\n",
      "  name TEXT, --None\n",
      "  born_state TEXT, --None\n",
      ");\n",
      "\n",
      "\n",
      "prompt:  \n",
      "                        ### Instructions:\n",
      "                        Your task is to convert a question into a SQL query, given a Postgres database schema.\n",
      "                        Adhere to these rules:\n",
      "                        - **Deliberately go through the question and database schema word by word** to appropriately answer the question\n",
      "                        - **Use Table Aliases** to prevent ambiguity. For example, `SELECT table1.col1, table2.col1 FROM table1 JOIN table2 ON table1.id = table2.id`.\n",
      "                        - When creating a ratio, always cast the numerator as float\n",
      "                        \n",
      "                        ### Input:\n",
      "                        Generate a SQL query that answers the question How many heads of the departments are older than 56 ?.\n",
      "                        This query will run on a database whose schema is represented in this string:\n",
      "                        \n",
      "CREATE TABLE head (\n",
      "  age DECIMAL(38, 0), --None\n",
      "  head_ID DECIMAL(38, 0), --None\n",
      "  name TEXT, --None\n",
      "  born_state TEXT, --None\n",
      ");\n",
      "\n",
      "\n",
      "                        \n",
      "                        \n",
      "                        ### Response:\n",
      "                        Based on your instructions, here is the SQL query I have generated to answer the question How many heads of the departments are older than 56 ?:\n",
      "                        ```sql\n",
      "                        \n",
      "Querying sqlcoder...\n",
      "JSON resp:  SELECT COUNT(*) FROM head WHERE age > 56;\n",
      "                        ```\n",
      "Done! Generated query:  SELECT COUNT(*) FROM head WHERE age > 56;\n",
      "                        ```\n",
      "Running post-processing...\n",
      "Done! Processed query: SELECT COUNT(*) FROM head WHERE age > 56\n"
     ]
    }
   ],
   "source": [
    "model_name = 'sqlcoder'\n",
    "\n",
    "sql_query, prompt = utils.getModelResult(tbl_schema, query['question'], model_name, table_name, df)"
   ]
  },
  {
   "cell_type": "code",
   "execution_count": 16,
   "id": "04f69303-10db-4da9-96d9-6ebd6e9f0f7e",
   "metadata": {},
   "outputs": [
    {
     "data": {
      "text/plain": [
       "<module 'utils' from '/workspace/codegen/codegen/utils.py'>"
      ]
     },
     "execution_count": 16,
     "metadata": {},
     "output_type": "execute_result"
    }
   ],
   "source": [
    "from importlib import reload\n",
    "reload(utils)"
   ]
  },
  {
   "cell_type": "code",
   "execution_count": 10,
   "id": "cdc19734-485b-4555-b9df-59093f3c72b5",
   "metadata": {},
   "outputs": [],
   "source": [
    "import requests\n",
    "\n",
    "OLLAMA_URL = 'http://127.0.0.1:11434'\n",
    "class OLLAMA:\n",
    "    def __init__(self, OLLAMA_URL, model_name):\n",
    "        self.model_name = model_name\n",
    "        self.ollama_url = OLLAMA_URL\n",
    "        self.ollama_endpoint = '/api/generate'\n",
    "\n",
    "    def run(self, prompt):\n",
    "        data = {\n",
    "            'model': self.model_name,\n",
    "            'prompt': prompt,\n",
    "            'stream': False,\n",
    "            \"options\":{\"temperature\":0.0}\n",
    "        }\n",
    "\n",
    "        headers = {\n",
    "            'Accept': 'application/json',\n",
    "            'Content-Type': 'application/json'\n",
    "        }\n",
    "\n",
    "        resp = requests.post(url = f'{self.ollama_url}{self.ollama_endpoint}',\n",
    "                             data = json.dumps(data),\n",
    "                             headers = headers)\n",
    "        query = resp.json()['response']\n",
    "        # print(f'JSON resp: {query}')\n",
    "        return query"
   ]
  },
  {
   "cell_type": "code",
   "execution_count": 11,
   "id": "9b9a67b1-ddef-4ff3-bfe6-e551ffeb07ff",
   "metadata": {},
   "outputs": [
    {
     "ename": "NameError",
     "evalue": "name 'tbl_schema' is not defined",
     "output_type": "error",
     "traceback": [
      "\u001b[31m---------------------------------------------------------------------------\u001b[39m",
      "\u001b[31mNameError\u001b[39m                                 Traceback (most recent call last)",
      "\u001b[36mCell\u001b[39m\u001b[36m \u001b[39m\u001b[32mIn[11]\u001b[39m\u001b[32m, line 2\u001b[39m\n\u001b[32m      1\u001b[39m model_name = \u001b[33m'\u001b[39m\u001b[33msqlcoder:7b\u001b[39m\u001b[33m'\u001b[39m\n\u001b[32m----> \u001b[39m\u001b[32m2\u001b[39m prompt = prompt_template.format(question=single_table_queries[\u001b[32m0\u001b[39m][\u001b[33m'\u001b[39m\u001b[33mquestion\u001b[39m\u001b[33m'\u001b[39m], db_schema=\u001b[43mtbl_schema\u001b[49m)\n\u001b[32m      3\u001b[39m ollama = OLLAMA(OLLAMA_URL=utils.OLLAMA_URL, model_name=model_name)\n\u001b[32m      4\u001b[39m generated_query, resp = ollama.run(prompt)\n",
      "\u001b[31mNameError\u001b[39m: name 'tbl_schema' is not defined"
     ]
    }
   ],
   "source": [
    "model_name = 'sqlcoder:7b'\n",
    "prompt = prompt_template.format(question=single_table_queries[0]['question'], db_schema=tbl_schema)\n",
    "ollama = OLLAMA(OLLAMA_URL=utils.OLLAMA_URL, model_name=model_name)\n",
    "generated_query, resp = ollama.run(prompt)"
   ]
  },
  {
   "cell_type": "code",
   "execution_count": 14,
   "id": "319689a1-fa11-4290-8154-1d2e4bbe643d",
   "metadata": {},
   "outputs": [
    {
     "name": "stderr",
     "output_type": "stream",
     "text": [
      "  1%|          | 29/4361 [01:20<3:19:50,  2.77s/it]\n"
     ]
    }
   ],
   "source": [
    "model_name = 'sqlcoder:7b'\n",
    "results = []\n",
    "i=0\n",
    "for query in tqdm.tqdm(single_table_queries):\n",
    "    i+=1\n",
    "    try:\n",
    "        tbl_schema, _, _ = get_schema(query, table_data_dict)\n",
    "        \n",
    "        prompt = prompt_template.format(question=query['question'], db_schema=tbl_schema)\n",
    "        ollama = OLLAMA(OLLAMA_URL=utils.OLLAMA_URL, model_name=model_name)\n",
    "        generated_query = ollama.run(prompt)\n",
    "    \n",
    "        results.append(generated_query)\n",
    "    except:\n",
    "        results.append('failure\\n')\n",
    "\n",
    "    if i%30==0:\n",
    "        break"
   ]
  },
  {
   "cell_type": "code",
   "execution_count": 13,
   "id": "ef6a559b-9b4a-4a42-bd74-9b3cd770774e",
   "metadata": {},
   "outputs": [
    {
     "data": {
      "text/plain": [
       "[' SELECT COUNT(*) FROM head WHERE age > 56;\\n                        ```',\n",
       " ' SELECT head.name, head.born_state, head.age FROM head ORDER BY head.age NULLS LAST;\\n                        ```',\n",
       " ' SELECT CAST(creation AS integer), name, budget_in_billions FROM department;\\n                        ```',\n",
       " ' SELECT MAX(Budget_in_Billions) AS max_budget, MIN(Budget_in_Billons) AS min_budget FROM department;\\n                        ```',\n",
       " ' AVG(department.num_employees) FROM department WHERE department.ranking BETWEEN 10 AND 15;\\n                        ```']"
      ]
     },
     "execution_count": 13,
     "metadata": {},
     "output_type": "execute_result"
    }
   ],
   "source": [
    "results"
   ]
  },
  {
   "cell_type": "code",
   "execution_count": 10,
   "id": "47749a8a-c612-4666-a1a9-65a0226f0e79",
   "metadata": {},
   "outputs": [],
   "source": [
    "tbl_schema, df, table_name = get_schema(single_table_queries[0], table_data_dict)"
   ]
  },
  {
   "cell_type": "code",
   "execution_count": 15,
   "id": "01f83c63-0ef1-4b18-a0db-9e486e6ee825",
   "metadata": {},
   "outputs": [
    {
     "data": {
      "text/plain": [
       "4"
      ]
     },
     "execution_count": 15,
     "metadata": {},
     "output_type": "execute_result"
    }
   ],
   "source": [
    "len(df)"
   ]
  },
  {
   "cell_type": "code",
   "execution_count": null,
   "id": "2b26f5d8-823b-44ef-b081-8606f8a1ff7f",
   "metadata": {
    "scrolled": true
   },
   "outputs": [
    {
     "name": "stderr",
     "output_type": "stream",
     "text": [
      "  0%|          | 0/4361 [00:00<?, ?it/s]"
     ]
    },
    {
     "name": "stdout",
     "output_type": "stream",
     "text": [
      "Running pre-processing...\n"
     ]
    },
    {
     "name": "stderr",
     "output_type": "stream",
     "text": [
      "  0%|          | 1/4361 [00:00<55:40,  1.31it/s]"
     ]
    },
    {
     "name": "stdout",
     "output_type": "stream",
     "text": [
      "Running pre-processing...\n"
     ]
    },
    {
     "name": "stderr",
     "output_type": "stream",
     "text": [
      "  0%|          | 2/4361 [00:01<1:08:14,  1.06it/s]"
     ]
    },
    {
     "name": "stdout",
     "output_type": "stream",
     "text": [
      "Running pre-processing...\n"
     ]
    },
    {
     "name": "stderr",
     "output_type": "stream",
     "text": [
      "  0%|          | 3/4361 [00:03<1:20:54,  1.11s/it]"
     ]
    },
    {
     "name": "stdout",
     "output_type": "stream",
     "text": [
      "Running pre-processing...\n"
     ]
    },
    {
     "name": "stderr",
     "output_type": "stream",
     "text": [
      "  0%|          | 4/4361 [00:04<1:37:14,  1.34s/it]"
     ]
    },
    {
     "name": "stdout",
     "output_type": "stream",
     "text": [
      "Running pre-processing...\n"
     ]
    },
    {
     "name": "stderr",
     "output_type": "stream",
     "text": [
      "  0%|          | 5/4361 [00:06<1:33:55,  1.29s/it]"
     ]
    },
    {
     "name": "stdout",
     "output_type": "stream",
     "text": [
      "Post-processing failed!\n",
      "Invalid expression / Unexpected token. Line 1, Col: 35.\n",
      "   AVG(department.num_employees) \u001b[4mFROM\u001b[0m department WHERE department.ranking BETWEEN 10 AND 15 <traceback object at 0x75c3a28b3f00>\n",
      "Running pre-processing...\n"
     ]
    },
    {
     "name": "stderr",
     "output_type": "stream",
     "text": [
      "  0%|          | 6/4361 [00:06<1:20:21,  1.11s/it]"
     ]
    },
    {
     "name": "stdout",
     "output_type": "stream",
     "text": [
      "Running pre-processing...\n"
     ]
    },
    {
     "name": "stderr",
     "output_type": "stream",
     "text": [
      "  0%|          | 7/4361 [00:08<1:24:22,  1.16s/it]"
     ]
    },
    {
     "name": "stdout",
     "output_type": "stream",
     "text": [
      "Running pre-processing...\n"
     ]
    },
    {
     "name": "stderr",
     "output_type": "stream",
     "text": [
      "  0%|          | 8/4361 [00:10<1:48:15,  1.49s/it]"
     ]
    },
    {
     "name": "stdout",
     "output_type": "stream",
     "text": [
      "Running pre-processing...\n"
     ]
    },
    {
     "name": "stderr",
     "output_type": "stream",
     "text": [
      "  0%|          | 9/4361 [00:10<1:30:08,  1.24s/it]"
     ]
    },
    {
     "name": "stdout",
     "output_type": "stream",
     "text": [
      "Running pre-processing...\n"
     ]
    },
    {
     "name": "stderr",
     "output_type": "stream",
     "text": [
      "  0%|          | 10/4361 [00:12<1:32:29,  1.28s/it]"
     ]
    },
    {
     "name": "stdout",
     "output_type": "stream",
     "text": [
      "Running pre-processing...\n"
     ]
    },
    {
     "name": "stderr",
     "output_type": "stream",
     "text": [
      "  0%|          | 11/4361 [00:13<1:25:22,  1.18s/it]"
     ]
    },
    {
     "name": "stdout",
     "output_type": "stream",
     "text": [
      "Running pre-processing...\n"
     ]
    },
    {
     "name": "stderr",
     "output_type": "stream",
     "text": [
      "  0%|          | 12/4361 [00:13<1:15:25,  1.04s/it]"
     ]
    },
    {
     "name": "stdout",
     "output_type": "stream",
     "text": [
      "Running pre-processing...\n"
     ]
    },
    {
     "name": "stderr",
     "output_type": "stream",
     "text": [
      "  0%|          | 13/4361 [00:14<1:05:22,  1.11it/s]"
     ]
    },
    {
     "name": "stdout",
     "output_type": "stream",
     "text": [
      "Running pre-processing...\n"
     ]
    },
    {
     "name": "stderr",
     "output_type": "stream",
     "text": [
      "  0%|          | 14/4361 [00:15<1:07:36,  1.07it/s]"
     ]
    },
    {
     "name": "stdout",
     "output_type": "stream",
     "text": [
      "Running pre-processing...\n"
     ]
    },
    {
     "name": "stderr",
     "output_type": "stream",
     "text": [
      "  0%|          | 15/4361 [00:17<1:25:59,  1.19s/it]"
     ]
    },
    {
     "name": "stdout",
     "output_type": "stream",
     "text": [
      "Running pre-processing...\n"
     ]
    },
    {
     "name": "stderr",
     "output_type": "stream",
     "text": [
      "  0%|          | 16/4361 [00:18<1:24:57,  1.17s/it]"
     ]
    },
    {
     "name": "stdout",
     "output_type": "stream",
     "text": [
      "Running pre-processing...\n"
     ]
    },
    {
     "name": "stderr",
     "output_type": "stream",
     "text": [
      "  0%|          | 17/4361 [00:19<1:24:28,  1.17s/it]"
     ]
    },
    {
     "name": "stdout",
     "output_type": "stream",
     "text": [
      "Running pre-processing...\n"
     ]
    },
    {
     "name": "stderr",
     "output_type": "stream",
     "text": [
      "  0%|          | 18/4361 [00:20<1:25:24,  1.18s/it]"
     ]
    },
    {
     "name": "stdout",
     "output_type": "stream",
     "text": [
      "Running pre-processing...\n"
     ]
    },
    {
     "name": "stderr",
     "output_type": "stream",
     "text": [
      "  0%|          | 19/4361 [00:22<1:26:14,  1.19s/it]"
     ]
    },
    {
     "name": "stdout",
     "output_type": "stream",
     "text": [
      "Running pre-processing...\n"
     ]
    },
    {
     "name": "stderr",
     "output_type": "stream",
     "text": [
      "  0%|          | 20/4361 [00:23<1:29:59,  1.24s/it]"
     ]
    },
    {
     "name": "stdout",
     "output_type": "stream",
     "text": [
      "Running pre-processing...\n"
     ]
    },
    {
     "name": "stderr",
     "output_type": "stream",
     "text": [
      "  0%|          | 21/4361 [00:24<1:32:16,  1.28s/it]"
     ]
    },
    {
     "name": "stdout",
     "output_type": "stream",
     "text": [
      "Running pre-processing...\n"
     ]
    },
    {
     "name": "stderr",
     "output_type": "stream",
     "text": [
      "  1%|          | 22/4361 [00:25<1:28:52,  1.23s/it]"
     ]
    },
    {
     "name": "stdout",
     "output_type": "stream",
     "text": [
      "Running pre-processing...\n"
     ]
    },
    {
     "name": "stderr",
     "output_type": "stream",
     "text": [
      "  1%|          | 23/4361 [00:27<1:26:07,  1.19s/it]"
     ]
    },
    {
     "name": "stdout",
     "output_type": "stream",
     "text": [
      "Running pre-processing...\n"
     ]
    },
    {
     "name": "stderr",
     "output_type": "stream",
     "text": [
      "  1%|          | 24/4361 [00:27<1:20:39,  1.12s/it]"
     ]
    },
    {
     "name": "stdout",
     "output_type": "stream",
     "text": [
      "Running pre-processing...\n"
     ]
    },
    {
     "name": "stderr",
     "output_type": "stream",
     "text": [
      "  1%|          | 25/4361 [00:28<1:16:50,  1.06s/it]"
     ]
    },
    {
     "name": "stdout",
     "output_type": "stream",
     "text": [
      "Running pre-processing...\n"
     ]
    },
    {
     "name": "stderr",
     "output_type": "stream",
     "text": [
      "  1%|          | 26/4361 [00:29<1:13:23,  1.02s/it]"
     ]
    },
    {
     "name": "stdout",
     "output_type": "stream",
     "text": [
      "Running pre-processing...\n"
     ]
    },
    {
     "name": "stderr",
     "output_type": "stream",
     "text": [
      "  1%|          | 27/4361 [00:30<1:10:50,  1.02it/s]"
     ]
    },
    {
     "name": "stdout",
     "output_type": "stream",
     "text": [
      "Running pre-processing...\n"
     ]
    },
    {
     "name": "stderr",
     "output_type": "stream",
     "text": [
      "  1%|          | 28/4361 [00:31<1:16:11,  1.06s/it]"
     ]
    },
    {
     "name": "stdout",
     "output_type": "stream",
     "text": [
      "Running pre-processing...\n"
     ]
    },
    {
     "name": "stderr",
     "output_type": "stream",
     "text": [
      "  1%|          | 29/4361 [00:33<1:19:17,  1.10s/it]"
     ]
    },
    {
     "name": "stdout",
     "output_type": "stream",
     "text": [
      "Running pre-processing...\n"
     ]
    },
    {
     "name": "stderr",
     "output_type": "stream",
     "text": [
      "  1%|          | 30/4361 [00:34<1:20:49,  1.12s/it]"
     ]
    },
    {
     "name": "stdout",
     "output_type": "stream",
     "text": [
      "Running pre-processing...\n"
     ]
    },
    {
     "name": "stderr",
     "output_type": "stream",
     "text": [
      "  1%|          | 31/4361 [00:35<1:21:53,  1.13s/it]"
     ]
    },
    {
     "name": "stdout",
     "output_type": "stream",
     "text": [
      "Running pre-processing...\n"
     ]
    },
    {
     "name": "stderr",
     "output_type": "stream",
     "text": [
      "  1%|          | 32/4361 [00:37<1:36:34,  1.34s/it]"
     ]
    },
    {
     "name": "stdout",
     "output_type": "stream",
     "text": [
      "Running pre-processing...\n"
     ]
    },
    {
     "name": "stderr",
     "output_type": "stream",
     "text": [
      "  1%|          | 33/4361 [00:38<1:36:41,  1.34s/it]"
     ]
    },
    {
     "name": "stdout",
     "output_type": "stream",
     "text": [
      "Running pre-processing...\n"
     ]
    },
    {
     "name": "stderr",
     "output_type": "stream",
     "text": [
      "  1%|          | 34/4361 [00:40<1:38:27,  1.37s/it]"
     ]
    },
    {
     "name": "stdout",
     "output_type": "stream",
     "text": [
      "Running pre-processing...\n"
     ]
    },
    {
     "name": "stderr",
     "output_type": "stream",
     "text": [
      "  1%|          | 35/4361 [00:41<1:39:31,  1.38s/it]"
     ]
    },
    {
     "name": "stdout",
     "output_type": "stream",
     "text": [
      "Running pre-processing...\n"
     ]
    }
   ],
   "source": [
    "model_name = 'sqlcoder:7b'\n",
    "results = []\n",
    "i=0\n",
    "for query in tqdm.tqdm(single_table_queries):\n",
    "    i+=1\n",
    "    try:\n",
    "        tbl_schema, df, table_name = get_schema(query, table_data_dict)\n",
    "\n",
    "        sql_query, prompt = utils.getModelResult(tbl_schema, query['question'], model_name, table_name, df)\n",
    "    \n",
    "        results.append(sql_query)\n",
    "    except:\n",
    "        results.append('failure\\n')\n",
    "        \n",
    "    # if i%50==0:\n",
    "    #     with open('results_codegen.txt', 'a') as f:\n",
    "    #         for rec in results:\n",
    "    #             if '\\n' in rec:\n",
    "    #                 f.write(rec)\n",
    "    #             else:\n",
    "    #                 f.write(f\"{rec}\\n\")\n",
    "    #     results = []\n",
    "\n",
    "# with open('results_codegen.txt', 'a') as f:\n",
    "#     for rec in results:\n",
    "#         if '\\n' in rec:\n",
    "#             f.write(rec)\n",
    "#         else:\n",
    "#             f.write(f\"{rec}\\n\")"
   ]
  },
  {
   "cell_type": "code",
   "execution_count": 15,
   "id": "b4923ce0-2079-4e4b-a64e-be62be96aa52",
   "metadata": {},
   "outputs": [
    {
     "data": {
      "text/plain": [
       "['SELECT COUNT(*) FROM head WHERE age > 56',\n",
       " 'SELECT head.name, head.born_state, head.age FROM head ORDER BY head.age',\n",
       " 'SELECT DATE_PART(YEAR, CAST(creation AS DATE)) AS creation_year, name, budget_in_billions FROM department',\n",
       " 'SELECT MAX(Budget_in_Billions) AS max_budget, MIN(Budget_in_Billons) AS min_budget FROM department',\n",
       " ' AVG(department.num_employees) FROM department WHERE department.ranking BETWEEN 10 AND 15;\\n                        ```',\n",
       " \"SELECT head.name FROM head WHERE head.born_state <> 'California'\",\n",
       " 'SELECT DISTINCT head.born_state FROM head GROUP BY head.born_state HAVING COUNT(head.head_id) >= 3',\n",
       " \"SELECT DATE_PART(YEAR, TO_DATE(creation, 'YYYY-MM-DD')) AS YEAR, COUNT(*) AS number_of_departments FROM department GROUP BY YEAR ORDER BY number_of_departments DESC NULLS LAST LIMIT 1\",\n",
       " 'SELECT COUNT(*) AS total_acting_status FROM management',\n",
       " 'SELECT COUNT(*) AS num_departments FROM department WHERE NOT \"Head\" IS NULL AND NOT \"Head\" IN (\\'John\\', \\'Jane\\')',\n",
       " \"SELECT head.head_id, head.name FROM head WHERE head.name ILIKE '%Ha%'\",\n",
       " 'SELECT COUNT(*) AS total_farms FROM farm',\n",
       " 'SELECT COUNT(*) FROM farm',\n",
       " 'SELECT farm.total_horses FROM farm ORDER BY farm.total_horses ASC NULLS FIRST',\n",
       " 'SELECT farm.farm_id, SUM(farm.total_horses) AS total_horses FROM farm GROUP BY farm.farm_id ORDER BY total_horses ASC NULLS FIRST',\n",
       " \"SELECT farm_competition.hosts FROM farm_competition WHERE NOT farm_competition.theme ILIKE '%Aliens%'\",\n",
       " \"SELECT farm_competition.hosts FROM farm_competition WHERE NOT farm_competition.theme ILIKE '%Aliens%'\",\n",
       " 'SELECT farm_competition.year, farm_competition.theme FROM farm_competition ORDER BY farm_competition.year ASC NULLS FIRST',\n",
       " 'SELECT farm_competition.year, farm_competition.theme FROM farm_competition ORDER BY farm_competition.year ASC NULLS FIRST',\n",
       " 'SELECT AVG(working_horses) AS average_working_horses FROM farm WHERE total_horses > 5000',\n",
       " 'SELECT AVG(working_horses) AS average_working_horses FROM farm WHERE total_horses > 5000',\n",
       " 'SELECT MAX(Cows) AS max_cattle, MIN(Cows) AS min_cattle FROM farm',\n",
       " 'SELECT MAX(Cows) AS max_cattle, MIN(Cows) AS min_cattle FROM farm',\n",
       " 'SELECT COUNT(DISTINCT city.status) AS number_of_status FROM city',\n",
       " 'SELECT COUNT(DISTINCT city.status) AS number_of_status FROM city',\n",
       " 'SELECT city.official_name FROM city ORDER BY city.population DESC NULLS LAST',\n",
       " 'SELECT city.official_name FROM city ORDER BY city.population DESC NULLS LAST',\n",
       " 'SELECT c.official_name, c.status FROM city AS c WHERE c.population = (SELECT MAX(population) FROM city)',\n",
       " 'SELECT city.official_name, city.status FROM city WHERE city.population = (SELECT MAX(population) FROM city)',\n",
       " 'SELECT city.status, AVG(city.population) AS average_population FROM city GROUP BY city.status',\n",
       " 'SELECT c.status, AVG(c.population) AS average_population FROM city AS c GROUP BY c.status',\n",
       " 'SELECT city.status, COUNT(city.official_name) AS number_of_cities FROM city GROUP BY city.status ORDER BY number_of_cities DESC NULLS LAST',\n",
       " 'SELECT city.status, COUNT(*) AS frequency FROM city GROUP BY city.status ORDER BY frequency ASC',\n",
       " 'SELECT city.status, COUNT(*) AS frequency FROM city GROUP BY city.status ORDER BY frequency DESC NULLS LAST LIMIT 1',\n",
       " 'SELECT city.status, COUNT(*) AS frequency FROM city GROUP BY city.status ORDER BY frequency DESC NULLS LAST LIMIT 1',\n",
       " 'SELECT city.official_name FROM city WHERE NOT city.city_id IN (SELECT competition.city_id FROM competition)',\n",
       " 'SELECT city.official_name FROM city WHERE NOT city.city_id IN (SELECT farm_competition.city_id FROM farm_competition)',\n",
       " 'SELECT city.status FROM city WHERE city.population > 1500 AND city.population < 500',\n",
       " 'SELECT DISTINCT city.status FROM city WHERE (city.population > 1500 OR city.population < 500) GROUP BY city.status',\n",
       " 'SELECT city.official_name FROM city WHERE city.population > 1500 OR city.population < 500',\n",
       " 'SELECT city.official_name FROM city WHERE (city.population > 1500 OR city.population < 500)',\n",
       " \"SELECT city.census_ranking FROM city WHERE city.status <> 'Village' ORDER BY city.census_ranking\",\n",
       " \"SELECT city.census_ranking FROM city WHERE city.status <> 'Village' ORDER BY city.census_ranking\",\n",
       " 'SELECT Student_Course_registrations.student_id FROM Student_Course_Registrations GROUP BY Student_Course_registrations.student_id HAVING COUNT(Student_Course_registrations.course_id) = (SELECT MIN(COUNT) FROM Student_Course_Registrations)',\n",
       " 'SELECT Student_Course_registrations.student_id FROM Student_Course_Registrations GROUP BY Student_Course_registrations.student_id HAVING COUNT(Student_Course_registrations.course_id) = (SELECT MIN(COUNT(course_id)) FROM Student_Course_Registrations)',\n",
       " 'SELECT s.student_id FROM Students LEFT JOIN Students AS e ON s.student_id = e.student_id WHERE e.student_id IS NULL',\n",
       " 'SELECT s.student_id FROM Students LEFT JOIN Students AS e ON s.student_id = e.student_id WHERE e.student_id IS NULL',\n",
       " 'SELECT DISTINCT student_id FROM Student_Course_Attendance',\n",
       " 'SELECT DISTINCT student_id FROM Student_Course_Attendance',\n",
       " 'SELECT MAX(assessment_date) AS latest_assessment_date, candidate_id FROM Candidate_Assessments GROUP BY candidate_id ORDER BY latest_assessment_date DESC NULLS LAST LIMIT 1']"
      ]
     },
     "execution_count": 15,
     "metadata": {},
     "output_type": "execute_result"
    }
   ],
   "source": [
    "results"
   ]
  }
 ],
 "metadata": {
  "kernelspec": {
   "display_name": "Python3 (ipykernel)",
   "language": "python",
   "name": "python3"
  },
  "language_info": {
   "codemirror_mode": {
    "name": "ipython",
    "version": 3
   },
   "file_extension": ".py",
   "mimetype": "text/x-python",
   "name": "python",
   "nbconvert_exporter": "python",
   "pygments_lexer": "ipython3",
   "version": "3.12.11"
  }
 },
 "nbformat": 4,
 "nbformat_minor": 5
}
