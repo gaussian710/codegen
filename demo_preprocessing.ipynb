{
 "cells": [
  {
   "cell_type": "code",
   "execution_count": 1,
   "id": "b72699cf-44b2-4759-b138-f77d01e1469c",
   "metadata": {},
   "outputs": [],
   "source": [
    "import pandas as pd\n",
    "import numpy as np\n",
    "import json\n",
    "import utils\n",
    "import tqdm"
   ]
  },
  {
   "cell_type": "code",
   "execution_count": 2,
   "id": "bd495e9b-a6e0-4be8-9d51-61598beb6319",
   "metadata": {},
   "outputs": [],
   "source": [
    "prompt_template = \"\"\" \n",
    "                        ### Instructions:\n",
    "                        Your task is to convert a question into a SQL query, given a Postgres database schema.\n",
    "                        Adhere to these rules:\n",
    "                        - **Deliberately go through the question and database schema word by word** to appropriately answer the question\n",
    "                        - **Use Table Aliases** to prevent ambiguity. For example, `SELECT table1.col1, table2.col1 FROM table1 JOIN table2 ON table1.id = table2.id`.\n",
    "                        - When creating a ratio, always cast the numerator as float\n",
    "                        \n",
    "                        ### Input:\n",
    "                        Generate a SQL query that answers the question {question}.\n",
    "                        This query will run on a database whose schema is represented in this string:\n",
    "                        {db_schema}\n",
    "                        \n",
    "                        \n",
    "                        ### Response:\n",
    "                        Based on your instructions, here is the SQL query I have generated to answer the question {question}:\n",
    "                        ```sql\n",
    "                        \"\"\""
   ]
  },
  {
   "cell_type": "code",
   "execution_count": 21,
   "id": "30fd5c01-7f0c-4e25-839e-be32503bec56",
   "metadata": {},
   "outputs": [],
   "source": [
    "import requests\n",
    "\n",
    "OLLAMA_URL = 'http://127.0.0.1:11434'\n",
    "class OLLAMA:\n",
    "    def __init__(self, OLLAMA_URL, model_name):\n",
    "        self.model_name = model_name\n",
    "        self.ollama_url = OLLAMA_URL\n",
    "        self.ollama_endpoint = '/api/generate'\n",
    "\n",
    "    def run(self, prompt):\n",
    "        data = {\n",
    "            'model': self.model_name,\n",
    "            'prompt': prompt,\n",
    "            'stream': False,\n",
    "            \"options\":{\"temperature\":0.0}\n",
    "        }\n",
    "\n",
    "        headers = {\n",
    "            'Accept': 'application/json',\n",
    "            'Content-Type': 'application/json'\n",
    "        }\n",
    "\n",
    "        resp = requests.post(url = f'{self.ollama_url}{self.ollama_endpoint}',\n",
    "                             data = json.dumps(data),\n",
    "                             headers = headers)\n",
    "        query = resp.json()['response']\n",
    "        # print(f'JSON resp: {query}')\n",
    "        return query"
   ]
  },
  {
   "cell_type": "code",
   "execution_count": 10,
   "id": "34d4513d-b2b2-4182-a5e3-0564caa178f7",
   "metadata": {},
   "outputs": [],
   "source": [
    "db_schema = \"\"\"CREATE TABLE user (\n",
    "    id NUMBER ,\n",
    "    username VARCHAR2(50) NOT NULL,\n",
    "    email VARCHAR2(100),\n",
    "    password_hash CHAR(64),\n",
    "    created_at TIMESTAMP DEFAULT CURRENT_TIMESTAMP,\n",
    "    updated_at TIMESTAMP,\n",
    "    last_login DATE,\n",
    "    age NUMBER CHECK (age >= 0),\n",
    "    is_active CHAR(1) DEFAULT 'Y',\n",
    "    profile_views NUMBER(19),\n",
    "    account_balance NUMBER(10,2),\n",
    "    referral_code VARCHAR2(20),\n",
    "    subscription_type VARCHAR2(30),\n",
    "    subscription_expiry DATE,\n",
    "    email_verified CHAR(1),\n",
    "    phone_number VARCHAR2(20),\n",
    "    country VARCHAR2(50),\n",
    "    city VARCHAR2(50),\n",
    "    zip_code VARCHAR2(10),\n",
    "    address_line1 CLOB,\n",
    "    address_line2 CLOB,\n",
    "    bio CLOB,\n",
    "    avatar_url CLOB,\n",
    "    favorite_color VARCHAR2(30),\n",
    "    preferred_language VARCHAR2(30),\n",
    "    timezone VARCHAR2(50),\n",
    "    login_attempts NUMBER DEFAULT 0,\n",
    "    password_reset_token CHAR(64),\n",
    "    password_reset_expiry TIMESTAMP,\n",
    "    session_token CHAR(64),\n",
    "    session_expiry TIMESTAMP,\n",
    "    device_type VARCHAR2(30),\n",
    "    os_version VARCHAR2(50),\n",
    "    browser_info CLOB,\n",
    "    two_factor_enabled CHAR(1),\n",
    "    two_factor_secret CHAR(32),\n",
    "    date_of_birth DATE,\n",
    "    gender VARCHAR2(10),\n",
    "    employment_status VARCHAR2(30),\n",
    "    job_title VARCHAR2(100),\n",
    "    company_name VARCHAR2(100),\n",
    "    website_url CLOB,\n",
    "    linkedin_url CLOB,\n",
    "    github_url CLOB,\n",
    "    twitter_handle VARCHAR2(50),\n",
    "    instagram_handle VARCHAR2(50),\n",
    "    youtube_channel CLOB,\n",
    "    notification_preferences CLOB, \n",
    "    metadata CLOB\n",
    ");\n",
    "\"\"\""
   ]
  },
  {
   "cell_type": "markdown",
   "id": "14331e1c-a580-4e81-8f39-3ca7e6fb7d14",
   "metadata": {},
   "source": [
    "## Example 1"
   ]
  },
  {
   "cell_type": "code",
   "execution_count": 11,
   "id": "127d9392-e09f-489c-83a1-71df83f6db07",
   "metadata": {},
   "outputs": [],
   "source": [
    "query = \"\"\"get count of user id by country and pin code\"\"\"\n",
    "filtered_schema = utils.preprocess_table(query, db_schema, 'user')"
   ]
  },
  {
   "cell_type": "code",
   "execution_count": 14,
   "id": "8751402e-4e58-4b07-8b78-151183a8fa67",
   "metadata": {},
   "outputs": [
    {
     "name": "stdout",
     "output_type": "stream",
     "text": [
      "\n",
      "CREATE TABLE user (\n",
      "  country VARCHAR(50), --None\n",
      "  phone_number VARCHAR(20), --None\n",
      "  zip_code VARCHAR(10), --None\n",
      "  id DECIMAL(38, 0), --None\n",
      "  account_balance DECIMAL(10, 2), --None\n",
      "  date_of_birth DATE, --None\n",
      "  two_factor_secret CHAR(32), --None\n",
      "  city VARCHAR(50), --None\n",
      "  age DECIMAL(38, 0), --CHECK (age >= 0)\n",
      "  username VARCHAR(50), --NOT NULL\n",
      "  referral_code VARCHAR(20), --None\n",
      ");\n",
      "\n",
      "\n"
     ]
    }
   ],
   "source": [
    "print(filtered_schema)"
   ]
  },
  {
   "cell_type": "code",
   "execution_count": 23,
   "id": "b49a4f98-5346-40d2-8827-f7dfc4624c96",
   "metadata": {},
   "outputs": [
    {
     "name": "stdout",
     "output_type": "stream",
     "text": [
      "CPU times: user 6.06 ms, sys: 3.9 ms, total: 9.96 ms\n",
      "Wall time: 2.55 s\n"
     ]
    },
    {
     "data": {
      "text/plain": [
       "' SELECT u.id AS user_id, c.country_code, p.pin_code, COUNT(*) OVER (PARTITION BY c.country_code, p.pin_code) AS total_users FROM user u JOIN country c ON u.country = c.country_code JOIN pin p ON u.zip_code = p.pin_code;\\n                        ```'"
      ]
     },
     "execution_count": 23,
     "metadata": {},
     "output_type": "execute_result"
    }
   ],
   "source": [
    "%%time\n",
    "model_name = 'sqlcoder:7b'\n",
    "prompt = prompt_template.format(question=query, db_schema=db_schema)\n",
    "ollama = OLLAMA(OLLAMA_URL=utils.OLLAMA_URL, model_name=model_name)\n",
    "generated_query = ollama.run(prompt)\n",
    "generated_query"
   ]
  },
  {
   "cell_type": "code",
   "execution_count": 24,
   "id": "12429514-2d78-41dc-9136-05f93c2842df",
   "metadata": {},
   "outputs": [
    {
     "name": "stdout",
     "output_type": "stream",
     "text": [
      "CPU times: user 6.6 ms, sys: 2.68 ms, total: 9.28 ms\n",
      "Wall time: 1.57 s\n"
     ]
    },
    {
     "data": {
      "text/plain": [
       "' SELECT u.country, u.zip_code, COUNT(u.id) AS user_count FROM user AS u GROUP BY u.country, u.zip_code;\\n                        ```'"
      ]
     },
     "execution_count": 24,
     "metadata": {},
     "output_type": "execute_result"
    }
   ],
   "source": [
    "%%time\n",
    "model_name = 'sqlcoder:7b'\n",
    "prompt = prompt_template.format(question=query, db_schema=filtered_schema)\n",
    "ollama = OLLAMA(OLLAMA_URL=utils.OLLAMA_URL, model_name=model_name)\n",
    "generated_query = ollama.run(prompt)\n",
    "generated_query"
   ]
  },
  {
   "cell_type": "markdown",
   "id": "4106b53e-2359-490f-97be-271d2a6efeaf",
   "metadata": {},
   "source": [
    "## Example 2"
   ]
  },
  {
   "cell_type": "code",
   "execution_count": 27,
   "id": "63f3d005-cf3f-4651-800a-8b8754d77219",
   "metadata": {},
   "outputs": [
    {
     "name": "stdout",
     "output_type": "stream",
     "text": [
      "\n",
      "CREATE TABLE user (\n",
      "  account_balance DECIMAL(10, 2), --None\n",
      "  profile_views DECIMAL(19), --None\n",
      "  referral_code VARCHAR(20), --None\n",
      "  age DECIMAL(38, 0), --CHECK (age >= 0)\n",
      "  two_factor_enabled CHAR(1), --None\n",
      "  subscription_expiry DATE, --None\n",
      "  is_active CHAR(1), --DEFAULT 'Y'\n",
      "  instagram_handle VARCHAR(50), --None\n",
      "  subscription_type VARCHAR(30), --None\n",
      "  created_at TIMESTAMP, --DEFAULT CURRENT_TIMESTAMP()\n",
      ");\n",
      "\n",
      "\n"
     ]
    }
   ],
   "source": [
    "query = \"\"\"get sum of views where balance is more than 1000\"\"\"\n",
    "filtered_schema = utils.preprocess_table(query, db_schema, 'user')\n",
    "print(filtered_schema)"
   ]
  },
  {
   "cell_type": "code",
   "execution_count": 28,
   "id": "a6501e3d-01ac-4aa6-bb50-29a583a9decc",
   "metadata": {},
   "outputs": [
    {
     "name": "stdout",
     "output_type": "stream",
     "text": [
      "CPU times: user 6.42 ms, sys: 1.13 ms, total: 7.55 ms\n",
      "Wall time: 1.55 s\n"
     ]
    },
    {
     "data": {
      "text/plain": [
       "' SELECT SUM(views) AS total_views FROM user WHERE account_balance > 1000;\\n                        ```'"
      ]
     },
     "execution_count": 28,
     "metadata": {},
     "output_type": "execute_result"
    }
   ],
   "source": [
    "%%time\n",
    "model_name = 'sqlcoder:7b'\n",
    "prompt = prompt_template.format(question=query, db_schema=db_schema)\n",
    "ollama = OLLAMA(OLLAMA_URL=utils.OLLAMA_URL, model_name=model_name)\n",
    "generated_query = ollama.run(prompt)\n",
    "generated_query"
   ]
  },
  {
   "cell_type": "code",
   "execution_count": 29,
   "id": "a8bf0aa2-f886-44c1-8155-21cc6997a99f",
   "metadata": {},
   "outputs": [
    {
     "name": "stdout",
     "output_type": "stream",
     "text": [
      "CPU times: user 2.57 ms, sys: 6.7 ms, total: 9.27 ms\n",
      "Wall time: 1.15 s\n"
     ]
    },
    {
     "data": {
      "text/plain": [
       "' SELECT SUM(profile_views) AS total_views FROM user WHERE account_balance > 1000;\\n                        ```'"
      ]
     },
     "execution_count": 29,
     "metadata": {},
     "output_type": "execute_result"
    }
   ],
   "source": [
    "%%time\n",
    "model_name = 'sqlcoder:7b'\n",
    "prompt = prompt_template.format(question=query, db_schema=filtered_schema)\n",
    "ollama = OLLAMA(OLLAMA_URL=utils.OLLAMA_URL, model_name=model_name)\n",
    "generated_query = ollama.run(prompt)\n",
    "generated_query"
   ]
  }
 ],
 "metadata": {
  "kernelspec": {
   "display_name": "Python3 (ipykernel)",
   "language": "python",
   "name": "python3"
  },
  "language_info": {
   "codemirror_mode": {
    "name": "ipython",
    "version": 3
   },
   "file_extension": ".py",
   "mimetype": "text/x-python",
   "name": "python",
   "nbconvert_exporter": "python",
   "pygments_lexer": "ipython3",
   "version": "3.12.11"
  }
 },
 "nbformat": 4,
 "nbformat_minor": 5
}
